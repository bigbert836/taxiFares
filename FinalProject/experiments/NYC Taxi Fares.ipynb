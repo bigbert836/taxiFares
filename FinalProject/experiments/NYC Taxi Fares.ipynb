{
 "cells": [
  {
   "cell_type": "markdown",
   "metadata": {},
   "source": [
    "### Use MLFlow for experiment tracking & logging the models\n",
    "- Use MLflow client to log parameters, metrics and trained model\n",
    "- Use Azure ML as the MLflow server - params/metrics and model will be saved on Azure ML storage"
   ]
  },
  {
   "cell_type": "code",
   "execution_count": 1,
   "metadata": {},
   "outputs": [
    {
     "name": "stdout",
     "output_type": "stream",
     "text": [
      "[\n",
      "  {\n",
      "    \"cloudName\": \"AzureCloud\",\n",
      "    \"homeTenantId\": \"cb044e08-488a-4438-8f87-e34637d156f4\",\n",
      "    \"id\": \"16058245-6766-4356-a5f5-eb2511366302\",\n",
      "    \"isDefault\": true,\n",
      "    \"managedByTenants\": [],\n",
      "    \"name\": \"Azure subscription 1\",\n",
      "    \"state\": \"Enabled\",\n",
      "    \"tenantId\": \"cb044e08-488a-4438-8f87-e34637d156f4\",\n",
      "    \"user\": {\n",
      "      \"name\": \"bab232@comcast.net\",\n",
      "      \"type\": \"user\"\n",
      "    }\n",
      "  }\n",
      "]\n"
     ]
    },
    {
     "name": "stderr",
     "output_type": "stream",
     "text": [
      "You have logged in. Now let us find all the subscriptions to which you have access...\n"
     ]
    }
   ],
   "source": [
    "!az login --tenant cb044e08-488a-4438-8f87-e34637d156f4"
   ]
  },
  {
   "cell_type": "code",
   "execution_count": 2,
   "metadata": {},
   "outputs": [
    {
     "name": "stderr",
     "output_type": "stream",
     "text": [
      "WARNING - Warning: Falling back to use azure cli login credentials.\n",
      "If you run your code in unattended mode, i.e., where you can't give a user input, then we recommend to use ServicePrincipalAuthentication or MsiAuthentication.\n",
      "Please refer to aka.ms/aml-notebook-auth for different authentication mechanisms in azureml-sdk.\n"
     ]
    }
   ],
   "source": [
    "from azureml.core import Workspace\n",
    "\n",
    "ws = Workspace.from_config(_file_name='../config/azureml_config.json')"
   ]
  },
  {
   "cell_type": "code",
   "execution_count": 4,
   "metadata": {},
   "outputs": [],
   "source": [
    "import mlflow"
   ]
  },
  {
   "cell_type": "code",
   "execution_count": 5,
   "metadata": {},
   "outputs": [],
   "source": [
    "mlflow.set_tracking_uri(ws.get_mlflow_tracking_uri())"
   ]
  },
  {
   "cell_type": "markdown",
   "metadata": {},
   "source": [
    "- Set Experiment name in mlflow\n",
    "    - An experiment can have multiple runs so experiment provides an easy way to capture multiple runs"
   ]
  },
  {
   "cell_type": "code",
   "execution_count": 36,
   "metadata": {},
   "outputs": [
    {
     "name": "stdout",
     "output_type": "stream",
     "text": [
      "INFO: 'Taxi_Fares' does not exist. Creating a new experiment\n"
     ]
    }
   ],
   "source": [
    "# This API will set the experiment name in MLFLow. If the experiment does't exist then it will create it\n",
    "mlflow.set_experiment(\"Taxi_Fares\")"
   ]
  },
  {
   "cell_type": "markdown",
   "metadata": {},
   "source": [
    "#### Core ML experiment code"
   ]
  },
  {
   "cell_type": "code",
   "execution_count": 7,
   "metadata": {},
   "outputs": [],
   "source": [
    "# ADD THIS TO IMPORT MLFLOW FOR SKLEARN MODULES\n",
    "#import mlflow.sklearn\n",
    "\n",
    "import numpy as np\n",
    "import matplotlib.pyplot as plt\n",
    "import pandas as pd"
   ]
  },
  {
   "cell_type": "code",
   "execution_count": 8,
   "metadata": {},
   "outputs": [
    {
     "data": {
      "text/html": [
       "<div>\n",
       "<style scoped>\n",
       "    .dataframe tbody tr th:only-of-type {\n",
       "        vertical-align: middle;\n",
       "    }\n",
       "\n",
       "    .dataframe tbody tr th {\n",
       "        vertical-align: top;\n",
       "    }\n",
       "\n",
       "    .dataframe thead th {\n",
       "        text-align: right;\n",
       "    }\n",
       "</style>\n",
       "<table border=\"1\" class=\"dataframe\">\n",
       "  <thead>\n",
       "    <tr style=\"text-align: right;\">\n",
       "      <th></th>\n",
       "      <th>vendorID</th>\n",
       "      <th>passengerCount</th>\n",
       "      <th>tripDistance</th>\n",
       "      <th>hour_of_day</th>\n",
       "      <th>day_of_week</th>\n",
       "      <th>day_of_month</th>\n",
       "      <th>month_num</th>\n",
       "      <th>normalizeHolidayName</th>\n",
       "      <th>isPaidTimeOff</th>\n",
       "      <th>snowDepth</th>\n",
       "      <th>precipTime</th>\n",
       "      <th>precipDepth</th>\n",
       "      <th>temperature</th>\n",
       "      <th>totalAmount</th>\n",
       "    </tr>\n",
       "  </thead>\n",
       "  <tbody>\n",
       "    <tr>\n",
       "      <th>0</th>\n",
       "      <td>1</td>\n",
       "      <td>1</td>\n",
       "      <td>9.40</td>\n",
       "      <td>15</td>\n",
       "      <td>2</td>\n",
       "      <td>27</td>\n",
       "      <td>1</td>\n",
       "      <td>None</td>\n",
       "      <td>False</td>\n",
       "      <td>29.058824</td>\n",
       "      <td>24.0</td>\n",
       "      <td>3.0</td>\n",
       "      <td>6.185714</td>\n",
       "      <td>44.30</td>\n",
       "    </tr>\n",
       "    <tr>\n",
       "      <th>1</th>\n",
       "      <td>2</td>\n",
       "      <td>5</td>\n",
       "      <td>14.75</td>\n",
       "      <td>13</td>\n",
       "      <td>4</td>\n",
       "      <td>15</td>\n",
       "      <td>1</td>\n",
       "      <td>None</td>\n",
       "      <td>False</td>\n",
       "      <td>0.000000</td>\n",
       "      <td>6.0</td>\n",
       "      <td>0.0</td>\n",
       "      <td>4.571930</td>\n",
       "      <td>44.80</td>\n",
       "    </tr>\n",
       "    <tr>\n",
       "      <th>2</th>\n",
       "      <td>2</td>\n",
       "      <td>1</td>\n",
       "      <td>3.35</td>\n",
       "      <td>23</td>\n",
       "      <td>4</td>\n",
       "      <td>8</td>\n",
       "      <td>1</td>\n",
       "      <td>None</td>\n",
       "      <td>False</td>\n",
       "      <td>0.000000</td>\n",
       "      <td>1.0</td>\n",
       "      <td>0.0</td>\n",
       "      <td>4.384091</td>\n",
       "      <td>18.96</td>\n",
       "    </tr>\n",
       "    <tr>\n",
       "      <th>3</th>\n",
       "      <td>2</td>\n",
       "      <td>1</td>\n",
       "      <td>3.33</td>\n",
       "      <td>18</td>\n",
       "      <td>2</td>\n",
       "      <td>27</td>\n",
       "      <td>1</td>\n",
       "      <td>None</td>\n",
       "      <td>False</td>\n",
       "      <td>29.058824</td>\n",
       "      <td>24.0</td>\n",
       "      <td>3.0</td>\n",
       "      <td>6.185714</td>\n",
       "      <td>16.30</td>\n",
       "    </tr>\n",
       "    <tr>\n",
       "      <th>4</th>\n",
       "      <td>2</td>\n",
       "      <td>1</td>\n",
       "      <td>0.47</td>\n",
       "      <td>17</td>\n",
       "      <td>6</td>\n",
       "      <td>3</td>\n",
       "      <td>1</td>\n",
       "      <td>None</td>\n",
       "      <td>False</td>\n",
       "      <td>0.000000</td>\n",
       "      <td>1.0</td>\n",
       "      <td>0.0</td>\n",
       "      <td>3.846429</td>\n",
       "      <td>5.30</td>\n",
       "    </tr>\n",
       "  </tbody>\n",
       "</table>\n",
       "</div>"
      ],
      "text/plain": [
       "   vendorID  passengerCount  tripDistance  hour_of_day  day_of_week  \\\n",
       "0         1               1          9.40           15            2   \n",
       "1         2               5         14.75           13            4   \n",
       "2         2               1          3.35           23            4   \n",
       "3         2               1          3.33           18            2   \n",
       "4         2               1          0.47           17            6   \n",
       "\n",
       "   day_of_month  month_num normalizeHolidayName  isPaidTimeOff  snowDepth  \\\n",
       "0            27          1                 None          False  29.058824   \n",
       "1            15          1                 None          False   0.000000   \n",
       "2             8          1                 None          False   0.000000   \n",
       "3            27          1                 None          False  29.058824   \n",
       "4             3          1                 None          False   0.000000   \n",
       "\n",
       "   precipTime  precipDepth  temperature  totalAmount  \n",
       "0        24.0          3.0     6.185714        44.30  \n",
       "1         6.0          0.0     4.571930        44.80  \n",
       "2         1.0          0.0     4.384091        18.96  \n",
       "3        24.0          3.0     6.185714        16.30  \n",
       "4         1.0          0.0     3.846429         5.30  "
      ]
     },
     "execution_count": 8,
     "metadata": {},
     "output_type": "execute_result"
    }
   ],
   "source": [
    "df = pd.read_csv(\"../data/nyc-taxi-sample-data.csv\")\n",
    "df.head()"
   ]
  },
  {
   "cell_type": "code",
   "execution_count": 9,
   "metadata": {},
   "outputs": [],
   "source": [
    "df['normalizeHolidayName'].replace(\"None\",0,inplace=True)\n",
    "df['normalizeHolidayName'].replace(\"Martin Luther King, Jr. Day\",1,inplace=True)\n",
    "df['normalizeHolidayName'].replace(\"New Year's Day\",2,inplace=True)\n",
    "df['normalizeHolidayName'].replace(\"Washington's Birthday\",3,inplace=True)\n",
    "df['normalizeHolidayName'].replace(\"Memorial Day\",4,inplace=True)"
   ]
  },
  {
   "cell_type": "code",
   "execution_count": 10,
   "metadata": {},
   "outputs": [],
   "source": [
    "df['isPaidTimeOff'].replace(\"FALSE\",0,inplace=True)\n",
    "df['isPaidTimeOff'].replace(\"TRUE\",1,inplace=True)"
   ]
  },
  {
   "cell_type": "code",
   "execution_count": 11,
   "metadata": {},
   "outputs": [],
   "source": [
    "#To do a data split and machine learning\n",
    "from sklearn import datasets, linear_model\n",
    "from sklearn.model_selection import train_test_split\n",
    "from sklearn.linear_model import LinearRegression\n",
    "from sklearn.metrics import accuracy_score"
   ]
  },
  {
   "cell_type": "code",
   "execution_count": 12,
   "metadata": {},
   "outputs": [],
   "source": [
    "x = df[['hour_of_day','day_of_week', 'day_of_month', 'month_num','normalizeHolidayName','isPaidTimeOff','temperature']]\n",
    "y = df['totalAmount']\n",
    "       \n",
    "x_train, x_test, y_train, y_test = train_test_split(x, y, test_size=0.30)"
   ]
  },
  {
   "cell_type": "code",
   "execution_count": 13,
   "metadata": {},
   "outputs": [
    {
     "data": {
      "text/html": [
       "<div>\n",
       "<style scoped>\n",
       "    .dataframe tbody tr th:only-of-type {\n",
       "        vertical-align: middle;\n",
       "    }\n",
       "\n",
       "    .dataframe tbody tr th {\n",
       "        vertical-align: top;\n",
       "    }\n",
       "\n",
       "    .dataframe thead th {\n",
       "        text-align: right;\n",
       "    }\n",
       "</style>\n",
       "<table border=\"1\" class=\"dataframe\">\n",
       "  <thead>\n",
       "    <tr style=\"text-align: right;\">\n",
       "      <th></th>\n",
       "      <th>hour_of_day</th>\n",
       "      <th>day_of_week</th>\n",
       "      <th>day_of_month</th>\n",
       "      <th>month_num</th>\n",
       "      <th>normalizeHolidayName</th>\n",
       "      <th>isPaidTimeOff</th>\n",
       "      <th>temperature</th>\n",
       "    </tr>\n",
       "  </thead>\n",
       "  <tbody>\n",
       "    <tr>\n",
       "      <th>0</th>\n",
       "      <td>15</td>\n",
       "      <td>2</td>\n",
       "      <td>27</td>\n",
       "      <td>1</td>\n",
       "      <td>0</td>\n",
       "      <td>False</td>\n",
       "      <td>6.185714</td>\n",
       "    </tr>\n",
       "    <tr>\n",
       "      <th>1</th>\n",
       "      <td>13</td>\n",
       "      <td>4</td>\n",
       "      <td>15</td>\n",
       "      <td>1</td>\n",
       "      <td>0</td>\n",
       "      <td>False</td>\n",
       "      <td>4.571930</td>\n",
       "    </tr>\n",
       "    <tr>\n",
       "      <th>2</th>\n",
       "      <td>23</td>\n",
       "      <td>4</td>\n",
       "      <td>8</td>\n",
       "      <td>1</td>\n",
       "      <td>0</td>\n",
       "      <td>False</td>\n",
       "      <td>4.384091</td>\n",
       "    </tr>\n",
       "    <tr>\n",
       "      <th>3</th>\n",
       "      <td>18</td>\n",
       "      <td>2</td>\n",
       "      <td>27</td>\n",
       "      <td>1</td>\n",
       "      <td>0</td>\n",
       "      <td>False</td>\n",
       "      <td>6.185714</td>\n",
       "    </tr>\n",
       "    <tr>\n",
       "      <th>4</th>\n",
       "      <td>17</td>\n",
       "      <td>6</td>\n",
       "      <td>3</td>\n",
       "      <td>1</td>\n",
       "      <td>0</td>\n",
       "      <td>False</td>\n",
       "      <td>3.846429</td>\n",
       "    </tr>\n",
       "  </tbody>\n",
       "</table>\n",
       "</div>"
      ],
      "text/plain": [
       "   hour_of_day  day_of_week  day_of_month  month_num  normalizeHolidayName  \\\n",
       "0           15            2            27          1                     0   \n",
       "1           13            4            15          1                     0   \n",
       "2           23            4             8          1                     0   \n",
       "3           18            2            27          1                     0   \n",
       "4           17            6             3          1                     0   \n",
       "\n",
       "   isPaidTimeOff  temperature  \n",
       "0          False     6.185714  \n",
       "1          False     4.571930  \n",
       "2          False     4.384091  \n",
       "3          False     6.185714  \n",
       "4          False     3.846429  "
      ]
     },
     "execution_count": 13,
     "metadata": {},
     "output_type": "execute_result"
    }
   ],
   "source": [
    "x.head()"
   ]
  },
  {
   "cell_type": "code",
   "execution_count": 14,
   "metadata": {},
   "outputs": [],
   "source": [
    "regression = LinearRegression()\n",
    "pricemodel = regression.fit(x_train, y_train)"
   ]
  },
  {
   "cell_type": "code",
   "execution_count": 15,
   "metadata": {},
   "outputs": [
    {
     "data": {
      "text/plain": [
       "LinearRegression(copy_X=True, fit_intercept=True, n_jobs=None,\n",
       "         normalize=False)"
      ]
     },
     "execution_count": 15,
     "metadata": {},
     "output_type": "execute_result"
    }
   ],
   "source": [
    "#To check the model training is performed\n",
    "pricemodel"
   ]
  },
  {
   "cell_type": "code",
   "execution_count": 16,
   "metadata": {},
   "outputs": [
    {
     "name": "stdout",
     "output_type": "stream",
     "text": [
      "[15.60954913 14.62883566 14.37963462 ... 14.65626441 14.84331717\n",
      " 15.06680703]\n"
     ]
    }
   ],
   "source": [
    "#To predict y values (y predicted) based on the linear model object\n",
    "y_pred = pricemodel.predict(x_test)\n",
    "print(y_pred)"
   ]
  },
  {
   "cell_type": "markdown",
   "metadata": {},
   "source": [
    "### Tracking Parameters, Metrics, and Artifacts\n",
    "Side Note To log artifacts, we have to save them somewhere before MLflow can log them. This code accomplishes that by using a temporary file that it then deletes."
   ]
  },
  {
   "cell_type": "code",
   "execution_count": 26,
   "metadata": {},
   "outputs": [],
   "source": [
    "import os\n",
    "import mlflow.sklearn\n",
    "import matplotlib.pyplot as plt\n",
    "from sklearn.ensemble import RandomForestRegressor\n",
    "from sklearn.linear_model import LinearRegression\n",
    "from sklearn.metrics import mean_squared_error, mean_absolute_error, r2_score"
   ]
  },
  {
   "cell_type": "code",
   "execution_count": 37,
   "metadata": {},
   "outputs": [],
   "source": [
    "def log_rf(run_name, params, X_train, X_test, y_train, y_test):\n",
    "# Start run for MLFLOW\n",
    "  with mlflow.start_run(run_name=run_name) as run:\n",
    "    # Create model, train it, and create predictions\n",
    "    rf = RandomForestRegressor(**params)\n",
    "    rf.fit(X_train, y_train)\n",
    "    predictions = rf.predict(X_test)\n",
    "\n",
    "    # Log model to MLFLOW\n",
    "    mlflow.sklearn.log_model(rf, \"random-forest-model\")\n",
    "\n",
    "    # Log params\n",
    "    mlflow.log_params(params)\n",
    "\n",
    "    # Create metrics\n",
    "    mse = mean_squared_error(y_test, predictions)\n",
    "    mae = mean_absolute_error(y_test, predictions)\n",
    "    r2 = r2_score(y_test, predictions)\n",
    "\n",
    "    # Log metrics to MLFLOW\n",
    "    mlflow.log_metrics({\"mse\": mse, \"mae\": mae, \"r2\": r2})   \n",
    "    \n",
    "    print(\"RandomForestRegressor: mse: \", mse, \" mae: \", mae, \" r2: \", r2)\n",
    "    print(\"RandomForestRegressor RunID: \", run.info.run_uuid)\n",
    "    \n",
    "    return run.info.run_uuid"
   ]
  },
  {
   "cell_type": "markdown",
   "metadata": {},
   "source": [
    "- Run experiment with few tuning parameters now"
   ]
  },
  {
   "cell_type": "code",
   "execution_count": 38,
   "metadata": {},
   "outputs": [
    {
     "name": "stderr",
     "output_type": "stream",
     "text": [
      "2020/08/24 12:12:59 WARNING mlflow.models.model: Logging model metadata to the tracking server has failed, possibly due older server version. The model artifacts have been logged successfully under azureml://experiments/Taxi_Fares/runs/36106253-1e3d-4fe1-b11c-4620c719caa6/artifacts. In addition to exporting model artifacts, MLflow clients 1.7.0 and above attempt to record model metadata to the  tracking store. If logging to a mlflow server via REST, consider  upgrading the server version to MLflow 1.7.0 or above.\n"
     ]
    },
    {
     "name": "stdout",
     "output_type": "stream",
     "text": [
      "RandomForestRegressor: mse:  113.69246056545698  mae:  7.388034002667485  r2:  0.0029222738761424116\n",
      "RandomForestRegressor RunID:  36106253-1e3d-4fe1-b11c-4620c719caa6\n"
     ]
    }
   ],
   "source": [
    "params = {\n",
    "  \"n_estimators\": 102,\n",
    "  \"max_depth\": 5,\n",
    "  \"random_state\": 42\n",
    "}\n",
    "\n",
    "runid_log_rf = log_rf(\"RandomForestRegressor\", params, x_train, x_test, y_train, y_test)"
   ]
  },
  {
   "cell_type": "code",
   "execution_count": 29,
   "metadata": {},
   "outputs": [],
   "source": [
    "def log_lr(run_name, X_train, X_test, y_train, y_test):\n",
    "# Start run for MLFLOW\n",
    "  with mlflow.start_run(run_name=run_name) as run:\n",
    "    # Create model, train it, and create predictions\n",
    "    lr = LinearRegression()\n",
    "    lr.fit(X_train, y_train)\n",
    "    predictions = lr.predict(X_test)\n",
    "\n",
    "    # Log model to MLFLOW\n",
    "    mlflow.sklearn.log_model(lr, \"random-forest-model\")\n",
    "\n",
    "    # Log params\n",
    "    mlflow.log_params(params)\n",
    "\n",
    "    # Create metrics\n",
    "    mse = mean_squared_error(y_test, predictions)\n",
    "    mae = mean_absolute_error(y_test, predictions)\n",
    "    r2 = r2_score(y_test, predictions)\n",
    "\n",
    "    # Log metrics to MLFLOW\n",
    "    mlflow.log_metrics({\"mse\": mse, \"mae\": mae, \"r2\": r2})   \n",
    "    \n",
    "    print(\"LinearRegression: mse: \", mse, \" mae: \", mae, \" r2: \", r2)\n",
    "    print(\"LinearRegression RunID: \", run.info.run_uuid)\n",
    "    \n",
    "    return run.info.run_uuid"
   ]
  },
  {
   "cell_type": "code",
   "execution_count": 39,
   "metadata": {},
   "outputs": [
    {
     "name": "stderr",
     "output_type": "stream",
     "text": [
      "2020/08/24 12:13:07 WARNING mlflow.models.model: Logging model metadata to the tracking server has failed, possibly due older server version. The model artifacts have been logged successfully under azureml://experiments/Taxi_Fares/runs/80222625-9b5c-4aba-978b-b44fbd1f951f/artifacts. In addition to exporting model artifacts, MLflow clients 1.7.0 and above attempt to record model metadata to the  tracking store. If logging to a mlflow server via REST, consider  upgrading the server version to MLflow 1.7.0 or above.\n"
     ]
    },
    {
     "name": "stdout",
     "output_type": "stream",
     "text": [
      "LinearRegression: mse:  113.95118067130882  mae:  7.386593335769577  r2:  0.0006533102741386188\n",
      "LinearRegression RunID:  80222625-9b5c-4aba-978b-b44fbd1f951f\n"
     ]
    }
   ],
   "source": [
    "runid_log_lr = log_lr(\"LinearRegression\", x_train, x_test, y_train, y_test)"
   ]
  },
  {
   "cell_type": "code",
   "execution_count": 44,
   "metadata": {},
   "outputs": [
    {
     "data": {
      "text/html": [
       "<table style=\"width:100%\"><tr><th>Name</th><th>Workspace</th><th>Report Page</th><th>Docs Page</th></tr><tr><td>Taxi_Fares</td><td>Project</td><td><a href=\"https://ml.azure.com/experiments/Taxi_Fares?wsid=/subscriptions/16058245-6766-4356-a5f5-eb2511366302/resourcegroups/Machine_Learning/workspaces/Project\" target=\"_blank\" rel=\"noopener\">Link to Azure Machine Learning studio</a></td><td><a href=\"https://docs.microsoft.com/en-us/python/api/azureml-core/azureml.core.experiment.Experiment?view=azure-ml-py\" target=\"_blank\" rel=\"noopener\">Link to Documentation</a></td></tr></table>"
      ],
      "text/plain": [
       "Experiment(Name: Taxi_Fares,\n",
       "Workspace: Project)"
      ]
     },
     "execution_count": 44,
     "metadata": {},
     "output_type": "execute_result"
    }
   ],
   "source": [
    "# Use the same experiment name that was specified above\n",
    "experiment_name = \"Taxi_Fares\"\n",
    "\n",
    "# gets the list of runs for your experiment as an array\n",
    "exp = ws.experiments[experiment_name]\n",
    "runs = list(exp.get_runs())\n",
    "#ws.experiments\n",
    "exp"
   ]
  },
  {
   "cell_type": "code",
   "execution_count": 45,
   "metadata": {},
   "outputs": [
    {
     "data": {
      "text/plain": [
       "[Run(Experiment: Taxi_Fares,\n",
       " Id: 80222625-9b5c-4aba-978b-b44fbd1f951f,\n",
       " Type: None,\n",
       " Status: Completed), Run(Experiment: Taxi_Fares,\n",
       " Id: 36106253-1e3d-4fe1-b11c-4620c719caa6,\n",
       " Type: None,\n",
       " Status: Completed)]"
      ]
     },
     "execution_count": 45,
     "metadata": {},
     "output_type": "execute_result"
    }
   ],
   "source": [
    "runs"
   ]
  },
  {
   "cell_type": "markdown",
   "metadata": {},
   "source": [
    "#### Download model artifacts"
   ]
  },
  {
   "cell_type": "code",
   "execution_count": 52,
   "metadata": {},
   "outputs": [],
   "source": [
    "# Grab this from your training experiment where you logged the model\n",
    "runid = \"80222625-9b5c-4aba-978b-b44fbd1f951f\"\n",
    "model_path = 'random-forest-model'\n",
    "\n",
    "model_uri='runs:/{}/{}'.format(runid, model_path)"
   ]
  },
  {
   "cell_type": "code",
   "execution_count": 53,
   "metadata": {},
   "outputs": [],
   "source": [
    "from mlflow.tracking.artifact_utils import _download_artifact_from_uri\n",
    "\n",
    "absolute_model_path = _download_artifact_from_uri(model_uri, \"../deployments/taxiFare_container/\")"
   ]
  },
  {
   "cell_type": "code",
   "execution_count": 5,
   "metadata": {},
   "outputs": [
    {
     "name": "stdout",
     "output_type": "stream",
     "text": [
      "[\n",
      "  {\n",
      "    \"cloudName\": \"AzureCloud\",\n",
      "    \"homeTenantId\": \"cb044e08-488a-4438-8f87-e34637d156f4\",\n",
      "    \"id\": \"16058245-6766-4356-a5f5-eb2511366302\",\n",
      "    \"isDefault\": true,\n",
      "    \"managedByTenants\": [],\n",
      "    \"name\": \"Azure subscription 1\",\n",
      "    \"state\": \"Enabled\",\n",
      "    \"tenantId\": \"cb044e08-488a-4438-8f87-e34637d156f4\",\n",
      "    \"user\": {\n",
      "      \"name\": \"bab232@comcast.net\",\n",
      "      \"type\": \"user\"\n",
      "    }\n",
      "  }\n",
      "]\n"
     ]
    },
    {
     "name": "stderr",
     "output_type": "stream",
     "text": [
      "You have logged in. Now let us find all the subscriptions to which you have access...\n"
     ]
    }
   ],
   "source": [
    "!az login"
   ]
  },
  {
   "cell_type": "code",
   "execution_count": 6,
   "metadata": {},
   "outputs": [
    {
     "name": "stdout",
     "output_type": "stream",
     "text": [
      "Login Succeeded\n"
     ]
    },
    {
     "name": "stderr",
     "output_type": "stream",
     "text": [
      "Uppercase characters are detected in the registry name. When using its server url in docker commands, to avoid authentication errors, use all lowercase.\n"
     ]
    }
   ],
   "source": [
    "!az acr login --name FinalProjectCIS395"
   ]
  },
  {
   "cell_type": "code",
   "execution_count": 4,
   "metadata": {},
   "outputs": [
    {
     "name": "stdout",
     "output_type": "stream",
     "text": [
      "2020/08/24 20:14:48 Downloading source code...\n",
      "\n",
      "2020/08/24 20:14:49 Finished downloading source code\n",
      "\n",
      "2020/08/24 20:14:50 Using acb_vol_3b3da815-cf8c-47f3-85e4-e902996a35b0 as the home volume\n",
      "2020/08/24 20:14:50 Setting up Docker configuration...\n",
      "2020/08/24 20:14:51 Successfully set up Docker configuration\n",
      "2020/08/24 20:14:51 Logging in to registry: finalprojectcis395.azurecr.io\n",
      "2020/08/24 20:14:52 Successfully logged into finalprojectcis395.azurecr.io\n",
      "2020/08/24 20:14:52 Executing step ID: build. Timeout(sec): 28800, Working directory: '', Network: ''\n",
      "2020/08/24 20:14:52 Scanning for dependencies...\n",
      "\n",
      "2020/08/24 20:14:52 Successfully scanned dependencies\n",
      "2020/08/24 20:14:52 Launching container with name: build\n",
      "Sending build context to Docker daemon  20.48kB\n",
      "\n",
      "\n",
      "Step 1/11 : FROM python:3.7.1\n",
      "3.7.1: Pulling from library/python\n",
      "54f7e8ac135a: Pulling fs layer\n",
      "\n",
      "d6341e30912f: Pulling fs layer\n",
      "087a57faf949: Pulling fs layer\n",
      "5d71636fb824: Pulling fs layer\n",
      "0c1db9598990: Pulling fs layer\n",
      "bfb904e99f24: Pulling fs layer\n",
      "78a3d3a96a32: Pulling fs layer\n",
      "885a0ed92c89: Pulling fs layer\n",
      "dd7cc9ace242: Pulling fs layer\n",
      "5d71636fb824: Waiting\n",
      "0c1db9598990: Waiting\n",
      "bfb904e99f24: Waiting\n",
      "78a3d3a96a32: Waiting\n",
      "885a0ed92c89: Waiting\n",
      "dd7cc9ace242: Waiting\n",
      "087a57faf949: Verifying Checksum\n",
      "087a57faf949: Download complete\n",
      "d6341e30912f: Verifying Checksum\n",
      "d6341e30912f: Download complete\n",
      "54f7e8ac135a: Verifying Checksum\n",
      "54f7e8ac135a: Download complete\n",
      "5d71636fb824: Verifying Checksum\n",
      "5d71636fb824: Download complete\n",
      "bfb904e99f24: Verifying Checksum\n",
      "bfb904e99f24: Download complete\n",
      "885a0ed92c89: Verifying Checksum\n",
      "885a0ed92c89: Download complete\n",
      "\n",
      "78a3d3a96a32: Verifying Checksum\n",
      "78a3d3a96a32: Download complete\n",
      "dd7cc9ace242: Verifying Checksum\n",
      "dd7cc9ace242: Download complete\n",
      "0c1db9598990: Verifying Checksum\n",
      "0c1db9598990: Download complete\n",
      "54f7e8ac135a: Pull complete\n",
      "\n",
      "d6341e30912f: Pull complete\n",
      "087a57faf949: Pull complete\n",
      "5d71636fb824: Pull complete\n",
      "\n",
      "0c1db9598990: Pull complete\n",
      "\n",
      "bfb904e99f24: Pull complete\n",
      "78a3d3a96a32: Pull complete\n",
      "885a0ed92c89: Pull complete\n",
      "dd7cc9ace242: Pull complete\n",
      "\n",
      "Digest: sha256:60bc77077c6f799c41743afde27889f7addf9c4c0cade3a5822da73d6c4ce8b0\n",
      "Status: Downloaded newer image for python:3.7.1\n",
      " ---> 1e80caffd59e\n",
      "Step 2/11 : LABEL NYC Taxi Fare Estimator, Brett Barnes, Chahn Ro, Northwestern University\n",
      " ---> Running in e430369af2a3\n",
      "\n",
      "Removing intermediate container e430369af2a3\n",
      " ---> 9e051ab22990\n",
      "Step 3/11 : COPY ./random-forest-model /usr/local/python/random-forest-model/\n",
      " ---> 67cae06b9260\n",
      "Step 4/11 : COPY ./api/ /usr/local/python/api/\n",
      "\n",
      " ---> e7b5af668ecf\n",
      "Step 5/11 : EXPOSE 8080\n",
      " ---> Running in 5848bd09cdbc\n",
      "Removing intermediate container 5848bd09cdbc\n",
      " ---> 07b01b09e0c4\n",
      "Step 6/11 : WORKDIR /usr/local/python/api/\n",
      "\n",
      " ---> Running in 993b5cbe0f83\n",
      "Removing intermediate container 993b5cbe0f83\n",
      " ---> f892a668bb40\n",
      "Step 7/11 : COPY requirements.txt /tmp\n",
      " ---> 43c49a0ad324\n",
      "Step 8/11 : WORKDIR /tmp\n",
      "\n",
      " ---> Running in 50310affe161\n",
      "Removing intermediate container 50310affe161\n",
      " ---> a1bd29dec51e\n",
      "Step 9/11 : RUN pip install -r requirements.txt\n",
      " ---> Running in 009572497a4d\n",
      "Collecting azure-core==1.6.0 (from -r requirements.txt (line 1))\n",
      "\n",
      "  Downloading https://files.pythonhosted.org/packages/a4/ed/ff9f4669e5b9a78a62fe43b83cc01e9007bbf6e99ec7ab6f73557135099f/azure_core-1.6.0-py2.py3-none-any.whl (120kB)\n",
      "Collecting azureml-automl-core==1.12.0 (from -r requirements.txt (line 2))\n",
      "  Downloading https://files.pythonhosted.org/packages/e6/dc/dd6d3e8b4e94b01031854ee25f60bc47187acff164ee80ee93a685006a99/azureml_automl_core-1.12.0-py3-none-any.whl (158kB)\n",
      "Collecting azureml-automl-runtime==1.12.0 (from -r requirements.txt (line 3))\n",
      "  Downloading https://files.pythonhosted.org/packages/a7/54/5375ae8528cc8a96628f6e73a8237f651a71c8d142e0a7c59d7b1a8720d5/azureml_automl_runtime-1.12.0-py3-none-any.whl (1.9MB)\n",
      "Collecting azureml-core==1.12.0.post1 (from -r requirements.txt (line 4))\n",
      "  Downloading https://files.pythonhosted.org/packages/8a/2c/b6157d4a34a205b563a1e79635f530eec7c839abf8763a518f69fe4a3d91/azureml_core-1.12.0.post1-py3-none-any.whl (2.0MB)\n",
      "Collecting azureml-dataprep==2.0.7 (from -r requirements.txt (line 5))\n",
      "  Downloading https://files.pythonhosted.org/packages/e4/5e/76b26e291b395582f0badd6077b42c5295c94d19c89f7bfac914cc79bfe5/azureml_dataprep-2.0.7-py3-none-any.whl (28.2MB)\n",
      "Collecting azureml-dataprep-native==20.0.2 (from -r requirements.txt (line 6))\n",
      "\n",
      "  Downloading https://files.pythonhosted.org/packages/17/2c/d278964ce175b979231dde475f94b183a27d97f1400657d754f568d5c04c/azureml_dataprep_native-20.0.2-cp37-cp37m-manylinux1_x86_64.whl (10.7MB)\n",
      "Collecting azureml-dataset-runtime==1.12.0 (from -r requirements.txt (line 7))\n",
      "  Downloading https://files.pythonhosted.org/packages/81/72/3653099646d95759dae54b5c35396b4c52e103679ccd47eacbac3687a571/azureml_dataset_runtime-1.12.0-py3-none-any.whl\n",
      "Collecting azureml-defaults==1.12.0 (from -r requirements.txt (line 8))\n",
      "  Downloading https://files.pythonhosted.org/packages/6e/d0/eb1c488d5fc271972cccf8d826e1f1aa1d42b7e5197239543ed4dfa1164d/azureml_defaults-1.12.0-py3-none-any.whl\n",
      "Collecting azureml-explain-model==1.12.0 (from -r requirements.txt (line 9))\n",
      "  Downloading https://files.pythonhosted.org/packages/b9/87/ec82092ee39f8befba4ae2493f4133e4b7a1484e78f31a9d250227d2f7cf/azureml_explain_model-1.12.0-py3-none-any.whl\n",
      "Collecting azureml-interpret==1.12.0 (from -r requirements.txt (line 10))\n",
      "  Downloading https://files.pythonhosted.org/packages/cb/76/4fa984eca28dd2f6a94f7f8834895c6b58be0837f46a1cfda123b3b43b92/azureml_interpret-1.12.0-py3-none-any.whl (47kB)\n",
      "Collecting azureml-mlflow==1.12.0 (from -r requirements.txt (line 11))\n",
      "  Downloading https://files.pythonhosted.org/packages/2d/ff/65daebd1e47058858715f10f04a01bf34e7194e28847faede16f686fcdfa/azureml_mlflow-1.12.0-py3-none-any.whl\n",
      "Collecting azureml-model-management-sdk==1.0.1b6.post1 (from -r requirements.txt (line 12))\n",
      "  Downloading https://files.pythonhosted.org/packages/4e/53/9004a1e7d6d4e796abc4bcc8286bfc2a32739c5fbac3859ca7429a228897/azureml_model_management_sdk-1.0.1b6.post1-py2.py3-none-any.whl (130kB)\n",
      "Collecting azureml-pipeline==1.12.0 (from -r requirements.txt (line 13))\n",
      "  Downloading https://files.pythonhosted.org/packages/37/34/b150bb2ca129badb7cbaf0642443339db8ed0ce94f358f8741ea3ed9fca8/azureml_pipeline-1.12.0-py3-none-any.whl\n",
      "Collecting azureml-pipeline-core==1.12.0 (from -r requirements.txt (line 14))\n",
      "  Downloading https://files.pythonhosted.org/packages/a9/e2/07370c2431bc26c192cf5de3a51d182bc698ef463c2db8294a3048874107/azureml_pipeline_core-1.12.0-py3-none-any.whl (300kB)\n",
      "Collecting azureml-pipeline-steps==1.12.0 (from -r requirements.txt (line 15))\n",
      "  Downloading https://files.pythonhosted.org/packages/b0/38/59a91cfd68bf48d9614898c16db25f42e7eb3317eba4c3c87652f0e2e3d0/azureml_pipeline_steps-1.12.0-py3-none-any.whl (59kB)\n",
      "Collecting azureml-sdk==1.12.0 (from -r requirements.txt (line 16))\n",
      "  Downloading https://files.pythonhosted.org/packages/8b/70/4c27e90abc91efd13010d7699583bb67a21ac2e91b19e5a50d89ad547505/azureml_sdk-1.12.0-py3-none-any.whl\n",
      "Collecting azureml-telemetry==1.12.0 (from -r requirements.txt (line 17))\n",
      "  Downloading https://files.pythonhosted.org/packages/45/8a/865180d1fce6367065df77c01801cd5f9c7a4a16dd9c266614ab42ce5f75/azureml_telemetry-1.12.0-py3-none-any.whl\n",
      "Collecting azureml-train==1.12.0 (from -r requirements.txt (line 18))\n",
      "  Downloading https://files.pythonhosted.org/packages/ef/ec/4684d5985ba7ee255cf71719178c8682220f0171d8aac5f8ec6a099539ce/azureml_train-1.12.0-py3-none-any.whl\n",
      "Collecting azureml-train-automl==1.12.0 (from -r requirements.txt (line 19))\n",
      "  Downloading https://files.pythonhosted.org/packages/a4/59/18ee218b9883656685052ed087ffc1a0331c0710465d48b5dca91aea1ffb/azureml_train_automl-1.12.0-py3-none-any.whl\n",
      "Collecting azureml-train-automl-client==1.12.0.post1 (from -r requirements.txt (line 20))\n",
      "  Downloading https://files.pythonhosted.org/packages/2a/4c/0bae0f865e5ccc71f31509c446165d6ad8c96b7e6ae0916122ccc6905a99/azureml_train_automl_client-1.12.0.post1-py3-none-any.whl (97kB)\n",
      "Collecting azureml-train-automl-runtime==1.12.0.post1 (from -r requirements.txt (line 21))\n",
      "  Downloading https://files.pythonhosted.org/packages/22/eb/b9cc0cca3da6b572e43379e14d48c75ef5c2d2a1e67e373f6f740e5d307f/azureml_train_automl_runtime-1.12.0.post1-py3-none-any.whl (101kB)\n",
      "Collecting azureml-train-core==1.12.0 (from -r requirements.txt (line 22))\n",
      "  Downloading https://files.pythonhosted.org/packages/14/7b/d8fa450f507c65aa57416e1b0dd8fc49ce7a1aea3f35d31cdace458c6c64/azureml_train_core-1.12.0-py3-none-any.whl (8.6MB)\n",
      "Collecting azureml-train-restclients-hyperdrive==1.12.0 (from -r requirements.txt (line 23))\n",
      "  Downloading https://files.pythonhosted.org/packages/0f/d4/b0c4137c3f28895286c71685e30ee71619f34a73118ab824beaa36bc556e/azureml_train_restclients_hyperdrive-1.12.0-py3-none-any.whl\n",
      "Collecting Babel==2.6.0 (from -r requirements.txt (line 24))\n",
      "  Downloading https://files.pythonhosted.org/packages/b8/ad/c6f60602d3ee3d92fbed87675b6fb6a6f9a38c223343ababdb44ba201f10/Babel-2.6.0-py2.py3-none-any.whl (8.1MB)\n",
      "Collecting docker==4.2.1 (from -r requirements.txt (line 25))\n",
      "\n",
      "  Downloading https://files.pythonhosted.org/packages/2b/80/4eab8a38ff62c31716d07753980a7c5e6550b61096926384f01e742b4a4b/docker-4.2.1-py2.py3-none-any.whl (143kB)\n",
      "Collecting flasgger==0.9.4 (from -r requirements.txt (line 26))\n",
      "  Downloading https://files.pythonhosted.org/packages/41/d6/c06817828fc6ef724d6ac60f3f558e048300c5ffd038b60d289e6599c117/flasgger-0.9.4-py2.py3-none-any.whl (3.8MB)\n",
      "Collecting Flask==1.0.3 (from -r requirements.txt (line 27))\n",
      "  Downloading https://files.pythonhosted.org/packages/9a/74/670ae9737d14114753b8c8fdf2e8bd212a05d3b361ab15b44937dfd40985/Flask-1.0.3-py2.py3-none-any.whl (92kB)\n",
      "Collecting ipython==7.2.0 (from -r requirements.txt (line 28))\n",
      "  Downloading https://files.pythonhosted.org/packages/f0/b4/a9ea018c73a84ee6280b2e94a1a6af8d63e45903eac2da0640fa63bca4db/ipython-7.2.0-py3-none-any.whl (765kB)\n",
      "Collecting jupyter==1.0.0 (from -r requirements.txt (line 29))\n",
      "  Downloading https://files.pythonhosted.org/packages/83/df/0f5dd132200728a86190397e1ea87cd76244e42d39ec5e88efd25b2abd7e/jupyter-1.0.0-py2.py3-none-any.whl\n",
      "Collecting jupyter-client==5.2.4 (from -r requirements.txt (line 30))\n",
      "  Downloading https://files.pythonhosted.org/packages/3b/c3/3043fe9ffd140d03c9d091a056794ccdc427c56ec19b8eea74f9ea0a498f/jupyter_client-5.2.4-py2.py3-none-any.whl (89kB)\n",
      "Collecting jupyter-console==6.0.0 (from -r requirements.txt (line 31))\n",
      "  Downloading https://files.pythonhosted.org/packages/cb/ee/6374ae8c21b7d0847f9c3722dcdfac986b8e54fa9ad9ea66e1eb6320d2b8/jupyter_console-6.0.0-py2.py3-none-any.whl\n",
      "Collecting jupyter-core==4.4.0 (from -r requirements.txt (line 32))\n",
      "  Downloading https://files.pythonhosted.org/packages/1d/44/065d2d7bae7bebc06f1dd70d23c36da8c50c0f08b4236716743d706762a8/jupyter_core-4.4.0-py2.py3-none-any.whl (126kB)\n",
      "Collecting jupyterlab==0.35.3 (from -r requirements.txt (line 33))\n",
      "  Downloading https://files.pythonhosted.org/packages/37/f0/7b7c93fc9177d895dbebfe7be86f42b69d59fc286d7c345da56f56ce870b/jupyterlab-0.35.3-py3-none-any.whl (14.7MB)\n",
      "Collecting jupyterlab-server==0.2.0 (from -r requirements.txt (line 34))\n",
      "  Downloading https://files.pythonhosted.org/packages/78/77/e8a9c300afbe24aa46abaf1091d9e7b82328559e99cf2d601e858bcb3e1a/jupyterlab_server-0.2.0-py3-none-any.whl\n",
      "Collecting Keras==2.4.3 (from -r requirements.txt (line 35))\n",
      "  Downloading https://files.pythonhosted.org/packages/44/e1/dc0757b20b56c980b5553c1b5c4c32d378c7055ab7bfa92006801ad359ab/Keras-2.4.3-py2.py3-none-any.whl\n",
      "Collecting matplotlib==3.0.2 (from -r requirements.txt (line 36))\n",
      "  Downloading https://files.pythonhosted.org/packages/e7/f9/5377596cb1c035c102396f5934237a046f80da69974026f90bee5db8b7ba/matplotlib-3.0.2-cp37-cp37m-manylinux1_x86_64.whl (12.9MB)\n",
      "\n",
      "Collecting mlflow==1.9.1 (from -r requirements.txt (line 37))\n",
      "  Downloading https://files.pythonhosted.org/packages/2d/bb/c79f745214c39dd70b8596b8341c4a6f93ec96f6ed7c7a769c6a826d215f/mlflow-1.9.1-py3-none-any.whl (11.9MB)\n",
      "Collecting numpy==1.16.3 (from -r requirements.txt (line 38))\n",
      "  Downloading https://files.pythonhosted.org/packages/bb/76/24e9f32c78e6f6fb26cf2596b428f393bf015b63459468119f282f70a7fd/numpy-1.16.3-cp37-cp37m-manylinux1_x86_64.whl (17.3MB)\n",
      "Collecting pandas==0.23.4 (from -r requirements.txt (line 39))\n",
      "\n",
      "  Downloading https://files.pythonhosted.org/packages/67/a7/12261a51ac2e7be4c698ca27cbe364ca5f16d64999456ee47ea8c7b44417/pandas-0.23.4-cp37-cp37m-manylinux1_x86_64.whl (8.8MB)\n",
      "Collecting pickleshare==0.7.5 (from -r requirements.txt (line 40))\n",
      "  Downloading https://files.pythonhosted.org/packages/9a/41/220f49aaea88bc6fa6cba8d05ecf24676326156c23b991e80b3f2fc24c77/pickleshare-0.7.5-py2.py3-none-any.whl\n",
      "Collecting Pillow==5.3.0 (from -r requirements.txt (line 41))\n",
      "  Downloading https://files.pythonhosted.org/packages/62/8c/230204b8e968f6db00c765624f51cfd1ecb6aea57b25ba00b240ee3fb0bd/Pillow-5.3.0-cp37-cp37m-manylinux1_x86_64.whl (2.0MB)\n",
      "Collecting scikit-learn==0.20.1 (from -r requirements.txt (line 42))\n",
      "  Downloading https://files.pythonhosted.org/packages/b0/3a/0802b78f697ae04ba06f49d0ebc6e872f2c470687c3e61ad8ef523e125c3/scikit_learn-0.20.1-cp37-cp37m-manylinux1_x86_64.whl (5.4MB)\n",
      "Collecting scipy==1.4.1 (from -r requirements.txt (line 43))\n",
      "  Downloading https://files.pythonhosted.org/packages/dd/82/c1fe128f3526b128cfd185580ba40d01371c5d299fcf7f77968e22dfcc2e/scipy-1.4.1-cp37-cp37m-manylinux1_x86_64.whl (26.1MB)\n",
      "\n",
      "Collecting seaborn==0.9.0 (from -r requirements.txt (line 44))\n",
      "  Downloading https://files.pythonhosted.org/packages/a8/76/220ba4420459d9c4c9c9587c6ce607bf56c25b3d3d2de62056efe482dadc/seaborn-0.9.0-py3-none-any.whl (208kB)\n",
      "Collecting requests>=2.18.4 (from azure-core==1.6.0->-r requirements.txt (line 1))\n",
      "  Downloading https://files.pythonhosted.org/packages/45/1e/0c169c6a5381e241ba7404532c16a21d86ab872c9bed8bdcd4c423954103/requests-2.24.0-py2.py3-none-any.whl (61kB)\n",
      "Collecting six>=1.6 (from azure-core==1.6.0->-r requirements.txt (line 1))\n",
      "  Downloading https://files.pythonhosted.org/packages/ee/ff/48bde5c0f013094d729fe4b0316ba2a24774b3ff1c52d924a8a4cb04078a/six-1.15.0-py2.py3-none-any.whl\n",
      "Collecting smart-open<=1.9.0 (from azureml-automl-runtime==1.12.0->-r requirements.txt (line 3))\n",
      "  Downloading https://files.pythonhosted.org/packages/0c/09/735f2786dfac9bbf39d244ce75c0313d27d4962e71e0774750dc809f2395/smart_open-1.9.0.tar.gz (70kB)\n",
      "Collecting onnx<=1.6.0,>=1.5.0 (from azureml-automl-runtime==1.12.0->-r requirements.txt (line 3))\n",
      "  Downloading https://files.pythonhosted.org/packages/ec/2b/6802531b7f87599781bbfcfefd9d0861d849b339ee5156515838829417e6/onnx-1.6.0-cp37-cp37m-manylinux1_x86_64.whl (4.8MB)\n",
      "Collecting statsmodels<=0.10.2,>=0.9.0 (from azureml-automl-runtime==1.12.0->-r requirements.txt (line 3))\n",
      "\n",
      "  Downloading https://files.pythonhosted.org/packages/a6/32/5f8cff131e678a73b8f390ff7d8a04d502ed45e379378a0c5b9c25175239/statsmodels-0.10.2-cp37-cp37m-manylinux1_x86_64.whl (8.1MB)\n",
      "Collecting gensim<3.9.0 (from azureml-automl-runtime==1.12.0->-r requirements.txt (line 3))\n",
      "  Downloading https://files.pythonhosted.org/packages/5c/4e/afe2315e08a38967f8a3036bbe7e38b428e9b7a90e823a83d0d49df1adf5/gensim-3.8.3-cp37-cp37m-manylinux1_x86_64.whl (24.2MB)\n",
      "Collecting psutil<6.0.0,>=5.2.2 (from azureml-automl-runtime==1.12.0->-r requirements.txt (line 3))\n",
      "  Downloading https://files.pythonhosted.org/packages/aa/3e/d18f2c04cf2b528e18515999b0c8e698c136db78f62df34eee89cee205f1/psutil-5.7.2.tar.gz (460kB)\n",
      "\n",
      "Collecting onnxconverter-common<=1.6.0,>=1.4.2 (from azureml-automl-runtime==1.12.0->-r requirements.txt (line 3))\n",
      "  Downloading https://files.pythonhosted.org/packages/77/3d/6112c19223d1eabbedf1b063567034e1463a11d7c82d1820f26b75d14e3c/onnxconverter_common-1.6.0-py2.py3-none-any.whl (43kB)\n",
      "Collecting pmdarima==1.1.1 (from azureml-automl-runtime==1.12.0->-r requirements.txt (line 3))\n",
      "  Downloading https://files.pythonhosted.org/packages/f6/d2/1860dc452527c50721a829c828b3251030566ff9c79c1fe2c125e82d18b4/pmdarima-1.1.1-cp37-cp37m-manylinux1_x86_64.whl (696kB)\n",
      "Collecting skl2onnx==1.4.9 (from azureml-automl-runtime==1.12.0->-r requirements.txt (line 3))\n",
      "  Downloading https://files.pythonhosted.org/packages/40/4d/630598ba5cbf7b6522158c236b9e74930f14bbc9324b61ddc40f252bab40/skl2onnx-1.4.9-py2.py3-none-any.whl (114kB)\n",
      "Collecting nimbusml==1.7.1 (from azureml-automl-runtime==1.12.0->-r requirements.txt (line 3))\n",
      "  Downloading https://files.pythonhosted.org/packages/d7/b0/ea473bd1d816f5a920db6917a335dd98b8168a032d4304296951403bd6c2/nimbusml-1.7.1-cp37-none-manylinux1_x86_64.whl (116.2MB)\n",
      "Collecting py-cpuinfo==5.0.0 (from azureml-automl-runtime==1.12.0->-r requirements.txt (line 3))\n",
      "\n",
      "  Downloading https://files.pythonhosted.org/packages/42/60/63f28a5401da733043abe7053e7d9591491b4784c4f87c339bf51215aa0a/py-cpuinfo-5.0.0.tar.gz (82kB)\n",
      "Collecting sklearn-pandas<=1.7.0,>=1.4.0 (from azureml-automl-runtime==1.12.0->-r requirements.txt (line 3))\n",
      "  Downloading https://files.pythonhosted.org/packages/7e/9c/c94f46b40b86d2c77c46c4c1b858fc66c117b4390665eca28f2e0812db45/sklearn_pandas-1.7.0-py2.py3-none-any.whl\n",
      "Collecting onnxruntime==1.0.0 (from azureml-automl-runtime==1.12.0->-r requirements.txt (line 3))\n",
      "  Downloading https://files.pythonhosted.org/packages/a7/46/88aaa8dbd9b134ca1894dd23b82f120b18f0f0a6889aa220d65b9cb62d49/onnxruntime-1.0.0-cp37-cp37m-manylinux1_x86_64.whl (3.4MB)\n",
      "Collecting joblib==0.14.1 (from azureml-automl-runtime==1.12.0->-r requirements.txt (line 3))\n",
      "  Downloading https://files.pythonhosted.org/packages/28/5c/cf6a2b65a321c4a209efcdf64c2689efae2cb62661f8f6f4bb28547cf1bf/joblib-0.14.1-py2.py3-none-any.whl (294kB)\n",
      "Collecting onnxmltools==1.4.1 (from azureml-automl-runtime==1.12.0->-r requirements.txt (line 3))\n",
      "  Downloading https://files.pythonhosted.org/packages/78/7f/1d47b82f1e98f742018e4c4c227ec9bd0ae1efdba3a6dfd7d30c45881fb9/onnxmltools-1.4.1-py2.py3-none-any.whl (371kB)\n",
      "Collecting lightgbm<=2.3.0,>=2.0.11 (from azureml-automl-runtime==1.12.0->-r requirements.txt (line 3))\n",
      "  Downloading https://files.pythonhosted.org/packages/05/ec/756f13b25258e0aa6ec82d98504e01523814f95fc70718407419b8520e1d/lightgbm-2.3.0-py2.py3-none-manylinux1_x86_64.whl (1.3MB)\n",
      "Collecting keras2onnx<=1.6.0,>=1.4.0 (from azureml-automl-runtime==1.12.0->-r requirements.txt (line 3))\n",
      "  Downloading https://files.pythonhosted.org/packages/60/df/38475abd5ef1e0c5a19f021add159e8a07d10525b2c01f13bf06371aedd4/keras2onnx-1.6.0-py3-none-any.whl (219kB)\n",
      "Collecting dill<0.4.0,>=0.2.8 (from azureml-automl-runtime==1.12.0->-r requirements.txt (line 3))\n",
      "  Downloading https://files.pythonhosted.org/packages/e2/96/518a8ea959a734b70d2e95fef98bcbfdc7adad1c1e5f5dd9148c835205a5/dill-0.3.2.zip (177kB)\n",
      "Collecting msrest>=0.5.1 (from azureml-core==1.12.0.post1->-r requirements.txt (line 4))\n",
      "  Downloading https://files.pythonhosted.org/packages/d9/ed/8e1b75721ad983c1672cd968ad3ae374d2e94767edff6f0b72a15dfde933/msrest-0.6.18-py2.py3-none-any.whl (84kB)\n",
      "Collecting azure-mgmt-authorization>=0.40.0 (from azureml-core==1.12.0.post1->-r requirements.txt (line 4))\n",
      "  Downloading https://files.pythonhosted.org/packages/b4/50/7a923f58bf053280fe1890f3332c08f6a82a208c92035ad8f7888c87b786/azure_mgmt_authorization-0.61.0-py2.py3-none-any.whl (94kB)\n",
      "Collecting azure-mgmt-keyvault>=0.40.0 (from azureml-core==1.12.0.post1->-r requirements.txt (line 4))\n",
      "  Downloading https://files.pythonhosted.org/packages/f1/af/1ba15e7176bcf6b1531b453e410ae41a983c09f834d8700dfce739451b53/azure_mgmt_keyvault-2.2.0-py2.py3-none-any.whl (89kB)\n",
      "Collecting azure-mgmt-resource>=1.2.1 (from azureml-core==1.12.0.post1->-r requirements.txt (line 4))\n",
      "  Downloading https://files.pythonhosted.org/packages/af/b3/8009c149d7d162b7a2a22a5007f984aa090f089bf8dc09e7e84bd354b868/azure_mgmt_resource-10.2.0-py2.py3-none-any.whl (968kB)\n",
      "Collecting azure-graphrbac>=0.40.0 (from azureml-core==1.12.0.post1->-r requirements.txt (line 4))\n",
      "  Downloading https://files.pythonhosted.org/packages/3e/93/02056aca45162f9fc275d1eaad12a2a07ef92375afb48eabddc4134b8315/azure_graphrbac-0.61.1-py2.py3-none-any.whl (141kB)\n",
      "Collecting PyJWT (from azureml-core==1.12.0.post1->-r requirements.txt (line 4))\n",
      "  Downloading https://files.pythonhosted.org/packages/87/8b/6a9f14b5f781697e51259d81657e6048fd31a113229cf346880bb7545565/PyJWT-1.7.1-py2.py3-none-any.whl\n",
      "Collecting SecretStorage (from azureml-core==1.12.0.post1->-r requirements.txt (line 4))\n",
      "  Downloading https://files.pythonhosted.org/packages/c3/50/8a02cad020e949e6d7105f5f4530d41e3febcaa5b73f8f2148aacb3aeba5/SecretStorage-3.1.2-py3-none-any.whl\n",
      "Collecting pathspec (from azureml-core==1.12.0.post1->-r requirements.txt (line 4))\n",
      "  Downloading https://files.pythonhosted.org/packages/5d/d0/887c58853bd4b6ffc7aa9cdba4fc57d7b979b45888a6bd47e4568e1cf868/pathspec-0.8.0-py2.py3-none-any.whl\n",
      "Collecting jmespath (from azureml-core==1.12.0.post1->-r requirements.txt (line 4))\n",
      "  Downloading https://files.pythonhosted.org/packages/07/cb/5f001272b6faeb23c1c9e0acc04d48eaaf5c862c17709d20e3469c6e0139/jmespath-0.10.0-py2.py3-none-any.whl\n",
      "\n",
      "Collecting adal>=1.2.0 (from azureml-core==1.12.0.post1->-r requirements.txt (line 4))\n",
      "  Downloading https://files.pythonhosted.org/packages/46/58/a19e0eb0c388fb7aced40f940c09069343862613d83095b592a8d3961ba1/adal-1.2.4-py2.py3-none-any.whl (55kB)\n",
      "Collecting ruamel.yaml>=0.15.35 (from azureml-core==1.12.0.post1->-r requirements.txt (line 4))\n",
      "  Downloading https://files.pythonhosted.org/packages/a6/92/59af3e38227b9cc14520bf1e59516d99ceca53e3b8448094248171e9432b/ruamel.yaml-0.16.10-py2.py3-none-any.whl (111kB)\n",
      "Collecting azure-mgmt-storage>=1.5.0 (from azureml-core==1.12.0.post1->-r requirements.txt (line 4))\n",
      "  Downloading https://files.pythonhosted.org/packages/33/cc/8ace313fd151af6663b1e1778f216532eab0258133ef21498c0e2caefad6/azure_mgmt_storage-11.2.0-py2.py3-none-any.whl (547kB)\n",
      "Collecting backports.tempfile (from azureml-core==1.12.0.post1->-r requirements.txt (line 4))\n",
      "  Downloading https://files.pythonhosted.org/packages/b4/5c/077f910632476281428fe254807952eb47ca78e720d059a46178c541e669/backports.tempfile-1.0-py2.py3-none-any.whl\n",
      "Collecting urllib3>=1.23 (from azureml-core==1.12.0.post1->-r requirements.txt (line 4))\n",
      "  Downloading https://files.pythonhosted.org/packages/9f/f0/a391d1463ebb1b233795cabfc0ef38d3db4442339de68f847026199e69d7/urllib3-1.25.10-py2.py3-none-any.whl (127kB)\n",
      "Collecting contextlib2 (from azureml-core==1.12.0.post1->-r requirements.txt (line 4))\n",
      "  Downloading https://files.pythonhosted.org/packages/85/60/370352f7ef6aa96c52fb001831622f50f923c1d575427d021b8ab3311236/contextlib2-0.6.0.post1-py2.py3-none-any.whl\n",
      "Collecting python-dateutil>=2.7.3 (from azureml-core==1.12.0.post1->-r requirements.txt (line 4))\n",
      "  Downloading https://files.pythonhosted.org/packages/d4/70/d60450c3dd48ef87586924207ae8907090de0b306af2bce5d134d78615cb/python_dateutil-2.8.1-py2.py3-none-any.whl (227kB)\n",
      "Collecting jsonpickle (from azureml-core==1.12.0.post1->-r requirements.txt (line 4))\n",
      "  Downloading https://files.pythonhosted.org/packages/af/ca/4fee219cc4113a5635e348ad951cf8a2e47fed2e3342312493f5b73d0007/jsonpickle-1.4.1-py2.py3-none-any.whl\n",
      "Collecting azure-mgmt-containerregistry>=2.0.0 (from azureml-core==1.12.0.post1->-r requirements.txt (line 4))\n",
      "  Downloading https://files.pythonhosted.org/packages/97/70/8c2d0509db466678eba16fa2b0a539499f3b351b1f2993126ad843d5be13/azure_mgmt_containerregistry-2.8.0-py2.py3-none-any.whl (718kB)\n",
      "Collecting cryptography!=1.9,!=2.0.*,!=2.1.*,!=2.2.* (from azureml-core==1.12.0.post1->-r requirements.txt (line 4))\n",
      "  Downloading https://files.pythonhosted.org/packages/26/d6/e8b087b9ae062d737c67c3bf76e30333bda9295ca17205062e8ed2c872de/cryptography-3.0-cp35-abi3-manylinux1_x86_64.whl (2.7MB)\n",
      "Collecting pyopenssl (from azureml-core==1.12.0.post1->-r requirements.txt (line 4))\n",
      "  Downloading https://files.pythonhosted.org/packages/9e/de/f8342b68fa9e981d348039954657bdf681b2ab93de27443be51865ffa310/pyOpenSSL-19.1.0-py2.py3-none-any.whl (53kB)\n",
      "Collecting msrestazure>=0.4.33 (from azureml-core==1.12.0.post1->-r requirements.txt (line 4))\n",
      "  Downloading https://files.pythonhosted.org/packages/5e/3a/7adb08fd2f0ee6fdfd03685fac38477b64f184943dcf6ea0cbffb205f22d/msrestazure-0.6.4-py2.py3-none-any.whl (40kB)\n",
      "\n",
      "Collecting pytz (from azureml-core==1.12.0.post1->-r requirements.txt (line 4))\n",
      "  Downloading https://files.pythonhosted.org/packages/4f/a4/879454d49688e2fad93e59d7d4efda580b783c745fd2ec2a3adf87b0808d/pytz-2020.1-py2.py3-none-any.whl (510kB)\n",
      "Collecting ndg-httpsclient (from azureml-core==1.12.0.post1->-r requirements.txt (line 4))\n",
      "  Downloading https://files.pythonhosted.org/packages/fb/67/c2f508c00ed2a6911541494504b7cac16fe0b0473912568df65fd1801132/ndg_httpsclient-0.5.1-py3-none-any.whl\n",
      "Collecting azure-common>=1.1.12 (from azureml-core==1.12.0.post1->-r requirements.txt (line 4))\n",
      "  Downloading https://files.pythonhosted.org/packages/e5/4d/d000fc3c5af601d00d55750b71da5c231fcb128f42ac95b208ed1091c2c1/azure_common-1.1.25-py2.py3-none-any.whl\n",
      "Collecting dotnetcore2<3.0.0,>=2.1.14 (from azureml-dataprep==2.0.7->-r requirements.txt (line 5))\n",
      "  Downloading https://files.pythonhosted.org/packages/f8/63/00dcafe16dff60e87b6fedf3e02e13b44fbdcccc3ccbf0215dea4527d59d/dotnetcore2-2.1.14-py3-none-manylinux1_x86_64.whl (29.3MB)\n",
      "Collecting azure-identity<1.3.0,>=1.2.0 (from azureml-dataprep==2.0.7->-r requirements.txt (line 5))\n",
      "  Downloading https://files.pythonhosted.org/packages/c4/7a/9372cd51fc3408ede0fab950ef9a6518cad34ef36e199982bb1ddfa18512/azure_identity-1.2.0-py2.py3-none-any.whl (58kB)\n",
      "Collecting cloudpickle<2.0.0,>=1.1.0 (from azureml-dataprep==2.0.7->-r requirements.txt (line 5))\n",
      "  Downloading https://files.pythonhosted.org/packages/8f/d7/bdb029d3de92c165afe6cdc69a2d01e26189b3bad64a1edf6ef5a5f11d1a/cloudpickle-1.5.0-py3-none-any.whl\n",
      "Collecting pyarrow<2.0.0,>=0.17.0 (from azureml-dataset-runtime==1.12.0->-r requirements.txt (line 7))\n",
      "  Downloading https://files.pythonhosted.org/packages/ba/64/1f2b55c2ae98bf6643c8be24426fccea6d3ee840d67ba7c299394e427fff/pyarrow-1.0.1-cp37-cp37m-manylinux1_x86_64.whl (16.6MB)\n",
      "Collecting json-logging-py==0.2 (from azureml-defaults==1.12.0->-r requirements.txt (line 8))\n",
      "\n",
      "  Downloading https://files.pythonhosted.org/packages/e9/e1/46c70eebf216b830867c4896ee678cb7f1b28bb68a2810c7e9a811cecfbc/json-logging-py-0.2.tar.gz\n",
      "Collecting configparser==3.7.4 (from azureml-defaults==1.12.0->-r requirements.txt (line 8))\n",
      "  Downloading https://files.pythonhosted.org/packages/ba/05/6c96328e92e625fc31445d24d75a2c92ef9ba34fc5b037fe69693c362a0d/configparser-3.7.4-py2.py3-none-any.whl\n",
      "Collecting werkzeug==0.16.1 (from azureml-defaults==1.12.0->-r requirements.txt (line 8))\n",
      "  Downloading https://files.pythonhosted.org/packages/c2/e4/a859d2fe516f466642fa5c6054fd9646271f9da26b0cac0d2f37fc858c8f/Werkzeug-0.16.1-py2.py3-none-any.whl (327kB)\n",
      "Collecting gunicorn==19.9.0 (from azureml-defaults==1.12.0->-r requirements.txt (line 8))\n",
      "  Downloading https://files.pythonhosted.org/packages/8c/da/b8dd8deb741bff556db53902d4706774c8e1e67265f69528c14c003644e6/gunicorn-19.9.0-py2.py3-none-any.whl (112kB)\n",
      "Collecting applicationinsights>=0.11.7 (from azureml-defaults==1.12.0->-r requirements.txt (line 8))\n",
      "  Downloading https://files.pythonhosted.org/packages/a1/53/234c53004f71f0717d8acd37876e0b65c121181167057b9ce1b1795f96a0/applicationinsights-0.11.9-py2.py3-none-any.whl (58kB)\n",
      "Collecting interpret-community==0.14.* (from azureml-interpret==1.12.0->-r requirements.txt (line 10))\n",
      "  Downloading https://files.pythonhosted.org/packages/c0/ba/a6c6bb6dc8aad39ece5641406e18831e9da2bc46dd28e37f8c1a6f308437/interpret_community-0.14.3-py3-none-any.whl (5.9MB)\n",
      "Collecting liac-arff>=2.1.1 (from azureml-model-management-sdk==1.0.1b6.post1->-r requirements.txt (line 12))\n",
      "  Downloading https://files.pythonhosted.org/packages/e9/35/fbc9217cfa91d98888b43e1a19c03a50d716108c58494c558c65e308f372/liac-arff-2.4.0.tar.gz\n",
      "Collecting websocket-client>=0.32.0 (from docker==4.2.1->-r requirements.txt (line 25))\n",
      "  Downloading https://files.pythonhosted.org/packages/4c/5f/f61b420143ed1c8dc69f9eaec5ff1ac36109d52c80de49d66e0c36c3dfdf/websocket_client-0.57.0-py2.py3-none-any.whl (200kB)\n",
      "\n",
      "Collecting jsonschema>=3.0.1 (from flasgger==0.9.4->-r requirements.txt (line 26))\n",
      "  Downloading https://files.pythonhosted.org/packages/c5/8f/51e89ce52a085483359217bc72cdbf6e75ee595d5b1d4b5ade40c7e018b8/jsonschema-3.2.0-py2.py3-none-any.whl (56kB)\n",
      "Collecting mistune (from flasgger==0.9.4->-r requirements.txt (line 26))\n",
      "  Downloading https://files.pythonhosted.org/packages/09/ec/4b43dae793655b7d8a25f76119624350b4d65eb663459eb9603d7f1f0345/mistune-0.8.4-py2.py3-none-any.whl\n",
      "Collecting PyYAML>=3.0 (from flasgger==0.9.4->-r requirements.txt (line 26))\n",
      "  Downloading https://files.pythonhosted.org/packages/64/c2/b80047c7ac2478f9501676c988a5411ed5572f35d1beff9cae07d321512c/PyYAML-5.3.1.tar.gz (269kB)\n",
      "Collecting click>=5.1 (from Flask==1.0.3->-r requirements.txt (line 27))\n",
      "  Downloading https://files.pythonhosted.org/packages/d2/3d/fa76db83bf75c4f8d338c2fd15c8d33fdd7ad23a9b5e57eb6c5de26b430e/click-7.1.2-py2.py3-none-any.whl (82kB)\n",
      "Collecting itsdangerous>=0.24 (from Flask==1.0.3->-r requirements.txt (line 27))\n",
      "  Downloading https://files.pythonhosted.org/packages/76/ae/44b03b253d6fade317f32c24d100b3b35c2239807046a4c953c7b89fa49e/itsdangerous-1.1.0-py2.py3-none-any.whl\n",
      "Collecting Jinja2>=2.10 (from Flask==1.0.3->-r requirements.txt (line 27))\n",
      "  Downloading https://files.pythonhosted.org/packages/30/9e/f663a2aa66a09d838042ae1a2c5659828bb9b41ea3a6efa20a20fd92b121/Jinja2-2.11.2-py2.py3-none-any.whl (125kB)\n",
      "Requirement already satisfied: setuptools>=18.5 in /usr/local/lib/python3.7/site-packages (from ipython==7.2.0->-r requirements.txt (line 28)) (40.6.2)\n",
      "Collecting jedi>=0.10 (from ipython==7.2.0->-r requirements.txt (line 28))\n",
      "  Downloading https://files.pythonhosted.org/packages/c3/d4/36136b18daae06ad798966735f6c3fb96869c1be9f8245d2a8f556e40c36/jedi-0.17.2-py2.py3-none-any.whl (1.4MB)\n",
      "Collecting decorator (from ipython==7.2.0->-r requirements.txt (line 28))\n",
      "  Downloading https://files.pythonhosted.org/packages/ed/1b/72a1821152d07cf1d8b6fce298aeb06a7eb90f4d6d41acec9861e7cc6df0/decorator-4.4.2-py2.py3-none-any.whl\n",
      "Collecting prompt-toolkit<2.1.0,>=2.0.0 (from ipython==7.2.0->-r requirements.txt (line 28))\n",
      "  Downloading https://files.pythonhosted.org/packages/87/61/2dfea88583d5454e3a64f9308a686071d58d59a55db638268a6413e1eb6d/prompt_toolkit-2.0.10-py3-none-any.whl (340kB)\n",
      "Collecting backcall (from ipython==7.2.0->-r requirements.txt (line 28))\n",
      "  Downloading https://files.pythonhosted.org/packages/4c/1c/ff6546b6c12603d8dd1070aa3c3d273ad4c07f5771689a7b69a550e8c951/backcall-0.2.0-py2.py3-none-any.whl\n",
      "Collecting pygments (from ipython==7.2.0->-r requirements.txt (line 28))\n",
      "  Downloading https://files.pythonhosted.org/packages/2d/68/106af3ae51daf807e9cdcba6a90e518954eb8b70341cee52995540a53ead/Pygments-2.6.1-py3-none-any.whl (914kB)\n",
      "Collecting pexpect; sys_platform != \"win32\" (from ipython==7.2.0->-r requirements.txt (line 28))\n",
      "  Downloading https://files.pythonhosted.org/packages/39/7b/88dbb785881c28a102619d46423cb853b46dbccc70d3ac362d99773a78ce/pexpect-4.8.0-py2.py3-none-any.whl (59kB)\n",
      "Collecting traitlets>=4.2 (from ipython==7.2.0->-r requirements.txt (line 28))\n",
      "  Downloading https://files.pythonhosted.org/packages/ca/ab/872a23e29cec3cf2594af7e857f18b687ad21039c1f9b922fac5b9b142d5/traitlets-4.3.3-py2.py3-none-any.whl (75kB)\n",
      "Collecting nbconvert (from jupyter==1.0.0->-r requirements.txt (line 29))\n",
      "  Downloading https://files.pythonhosted.org/packages/79/6c/05a569e9f703d18aacb89b7ad6075b404e8a4afde2c26b73ca77bb644b14/nbconvert-5.6.1-py2.py3-none-any.whl (455kB)\n",
      "Collecting qtconsole (from jupyter==1.0.0->-r requirements.txt (line 29))\n",
      "  Downloading https://files.pythonhosted.org/packages/41/27/82ed9d2c2e9a30c885f6782d674c8bfe3e3f903d06d837c2978f8b55be56/qtconsole-4.7.6-py2.py3-none-any.whl (118kB)\n",
      "Collecting ipykernel (from jupyter==1.0.0->-r requirements.txt (line 29))\n",
      "  Downloading https://files.pythonhosted.org/packages/52/19/c2812690d8b340987eecd2cbc18549b1d130b94c5d97fcbe49f5f8710edf/ipykernel-5.3.4-py3-none-any.whl (120kB)\n",
      "\n",
      "Collecting ipywidgets (from jupyter==1.0.0->-r requirements.txt (line 29))\n",
      "  Downloading https://files.pythonhosted.org/packages/56/a0/dbcf5881bb2f51e8db678211907f16ea0a182b232c591a6d6f276985ca95/ipywidgets-7.5.1-py2.py3-none-any.whl (121kB)\n",
      "Collecting notebook (from jupyter==1.0.0->-r requirements.txt (line 29))\n",
      "  Downloading https://files.pythonhosted.org/packages/ea/00/1be79c61e2dfedb29c430b0e08f9fd2cb6ee4f6be92ba6f185dd6bb00052/notebook-6.1.3-py3-none-any.whl (9.4MB)\n",
      "Collecting tornado>=4.1 (from jupyter-client==5.2.4->-r requirements.txt (line 30))\n",
      "  Downloading https://files.pythonhosted.org/packages/95/84/119a46d494f008969bf0c775cb2c6b3579d3c4cc1bb1b41a022aa93ee242/tornado-6.0.4.tar.gz (496kB)\n",
      "Collecting pyzmq>=13 (from jupyter-client==5.2.4->-r requirements.txt (line 30))\n",
      "  Downloading https://files.pythonhosted.org/packages/cd/ba/144b5f68fcd643937a4a953017abf1527ff34d43d2d912206fed962efde0/pyzmq-19.0.2-cp37-cp37m-manylinux1_x86_64.whl (1.1MB)\n",
      "Collecting h5py (from Keras==2.4.3->-r requirements.txt (line 35))\n",
      "  Downloading https://files.pythonhosted.org/packages/3f/c0/abde58b837e066bca19a3f7332d9d0493521d7dd6b48248451a9e3fe2214/h5py-2.10.0-cp37-cp37m-manylinux1_x86_64.whl (2.9MB)\n",
      "Collecting kiwisolver>=1.0.1 (from matplotlib==3.0.2->-r requirements.txt (line 36))\n",
      "  Downloading https://files.pythonhosted.org/packages/31/b9/6202dcae729998a0ade30e80ac00f616542ef445b088ec970d407dfd41c0/kiwisolver-1.2.0-cp37-cp37m-manylinux1_x86_64.whl (88kB)\n",
      "Collecting pyparsing!=2.0.4,!=2.1.2,!=2.1.6,>=2.0.1 (from matplotlib==3.0.2->-r requirements.txt (line 36))\n",
      "  Downloading https://files.pythonhosted.org/packages/8a/bb/488841f56197b13700afd5658fc279a2025a39e22449b7cf29864669b15d/pyparsing-2.4.7-py2.py3-none-any.whl (67kB)\n",
      "Collecting cycler>=0.10 (from matplotlib==3.0.2->-r requirements.txt (line 36))\n",
      "  Downloading https://files.pythonhosted.org/packages/f7/d2/e07d3ebb2bd7af696440ce7e754c59dd546ffe1bbe732c8ab68b9c834e61/cycler-0.10.0-py2.py3-none-any.whl\n",
      "\n",
      "Collecting alembic (from mlflow==1.9.1->-r requirements.txt (line 37))\n",
      "  Downloading https://files.pythonhosted.org/packages/60/1e/cabc75a189de0fbb2841d0975243e59bde8b7822bacbb95008ac6fe9ad47/alembic-1.4.2.tar.gz (1.1MB)\n",
      "  Installing build dependencies: started\n",
      "  Installing build dependencies: finished with status 'done'\n",
      "Collecting querystring-parser (from mlflow==1.9.1->-r requirements.txt (line 37))\n",
      "\n",
      "  Downloading https://files.pythonhosted.org/packages/4a/fa/f54f5662e0eababf0c49e92fd94bf178888562c0e7b677c8941bbbcd1bd6/querystring_parser-1.2.4.tar.gz\n",
      "Collecting gitpython>=2.1.0 (from mlflow==1.9.1->-r requirements.txt (line 37))\n",
      "  Downloading https://files.pythonhosted.org/packages/f9/1e/a45320cab182bf1c8656107b3d4c042e659742822fc6bff150d769a984dd/GitPython-3.1.7-py3-none-any.whl (158kB)\n",
      "Collecting azure-storage-blob>=12.0 (from mlflow==1.9.1->-r requirements.txt (line 37))\n",
      "  Downloading https://files.pythonhosted.org/packages/60/dc/3c25aeab827266c019e13abc07f31b5f47d93f1b8548a417c81c89c9d021/azure_storage_blob-12.4.0-py2.py3-none-any.whl (326kB)\n",
      "Collecting databricks-cli>=0.8.7 (from mlflow==1.9.1->-r requirements.txt (line 37))\n",
      "  Downloading https://files.pythonhosted.org/packages/1e/57/5c2d6b83cb8753d12f548e89f91037632baa8289677c1b2ab2adf14bf6b2/databricks-cli-0.11.0.tar.gz (49kB)\n",
      "Collecting gorilla (from mlflow==1.9.1->-r requirements.txt (line 37))\n",
      "  Downloading https://files.pythonhosted.org/packages/e3/56/5a683944cbfc77e429c6f03c636ca50504a785f60ffae91ddd7f5f7bb520/gorilla-0.3.0-py2.py3-none-any.whl\n",
      "Collecting protobuf>=3.6.0 (from mlflow==1.9.1->-r requirements.txt (line 37))\n",
      "  Downloading https://files.pythonhosted.org/packages/71/dc/5ba56eab7440c62c5f808b4267e2a1d6c136e90293b43fefb1b493c6d704/protobuf-3.13.0-cp37-cp37m-manylinux1_x86_64.whl (1.3MB)\n",
      "Collecting prometheus-flask-exporter (from mlflow==1.9.1->-r requirements.txt (line 37))\n",
      "  Downloading https://files.pythonhosted.org/packages/84/b0/7549899a75e7ef0be5f8969094d0709e5dcc51dc21d58cc86b8d69441dce/prometheus_flask_exporter-0.15.4.tar.gz\n",
      "Collecting sqlparse (from mlflow==1.9.1->-r requirements.txt (line 37))\n",
      "  Downloading https://files.pythonhosted.org/packages/85/ee/6e821932f413a5c4b76be9c5936e313e4fc626b33f16e027866e1d60f588/sqlparse-0.3.1-py2.py3-none-any.whl (40kB)\n",
      "Collecting sqlalchemy<=1.3.13 (from mlflow==1.9.1->-r requirements.txt (line 37))\n",
      "  Downloading https://files.pythonhosted.org/packages/af/47/35edeb0f86c0b44934c05d961c893e223ef27e79e1f53b5e6f14820ff553/SQLAlchemy-1.3.13.tar.gz (6.0MB)\n",
      "Collecting entrypoints (from mlflow==1.9.1->-r requirements.txt (line 37))\n",
      "\n",
      "  Downloading https://files.pythonhosted.org/packages/ac/c6/44694103f8c221443ee6b0041f69e2740d89a25641e62fb4f2ee568f2f9c/entrypoints-0.3-py2.py3-none-any.whl\n",
      "Collecting chardet<4,>=3.0.2 (from requests>=2.18.4->azure-core==1.6.0->-r requirements.txt (line 1))\n",
      "  Downloading https://files.pythonhosted.org/packages/bc/a9/01ffebfb562e4274b6487b4bb1ddec7ca55ec7510b22e4c51f14098443b8/chardet-3.0.4-py2.py3-none-any.whl (133kB)\n",
      "Collecting idna<3,>=2.5 (from requests>=2.18.4->azure-core==1.6.0->-r requirements.txt (line 1))\n",
      "  Downloading https://files.pythonhosted.org/packages/a2/38/928ddce2273eaa564f6f50de919327bf3a00f091b5baba8dfa9460f3a8a8/idna-2.10-py2.py3-none-any.whl (58kB)\n",
      "Collecting certifi>=2017.4.17 (from requests>=2.18.4->azure-core==1.6.0->-r requirements.txt (line 1))\n",
      "  Downloading https://files.pythonhosted.org/packages/5e/c4/6c4fe722df5343c33226f0b4e0bb042e4dc13483228b4718baf286f86d87/certifi-2020.6.20-py2.py3-none-any.whl (156kB)\n",
      "Collecting boto>=2.32 (from smart-open<=1.9.0->azureml-automl-runtime==1.12.0->-r requirements.txt (line 3))\n",
      "  Downloading https://files.pythonhosted.org/packages/23/10/c0b78c27298029e4454a472a1919bde20cb182dab1662cec7f2ca1dcc523/boto-2.49.0-py2.py3-none-any.whl (1.4MB)\n",
      "Collecting boto3 (from smart-open<=1.9.0->azureml-automl-runtime==1.12.0->-r requirements.txt (line 3))\n",
      "  Downloading https://files.pythonhosted.org/packages/88/cc/8d50129435182a8966d812b0843b81ea33cf96faa4a4abeab8400fcf9eb8/boto3-1.14.48.tar.gz (97kB)\n",
      "Collecting typing-extensions>=3.6.2.1 (from onnx<=1.6.0,>=1.5.0->azureml-automl-runtime==1.12.0->-r requirements.txt (line 3))\n",
      "  Downloading https://files.pythonhosted.org/packages/60/7a/e881b5abb54db0e6e671ab088d079c57ce54e8a01a3ca443f561ccadb37e/typing_extensions-3.7.4.3-py3-none-any.whl\n",
      "Collecting patsy>=0.4.0 (from statsmodels<=0.10.2,>=0.9.0->azureml-automl-runtime==1.12.0->-r requirements.txt (line 3))\n",
      "  Downloading https://files.pythonhosted.org/packages/ea/0c/5f61f1a3d4385d6bf83b83ea495068857ff8dfb89e74824c6e9eb63286d8/patsy-0.5.1-py2.py3-none-any.whl (231kB)\n",
      "Collecting Cython>=0.29 (from pmdarima==1.1.1->azureml-automl-runtime==1.12.0->-r requirements.txt (line 3))\n",
      "  Downloading https://files.pythonhosted.org/packages/6b/36/d6c18632a339dafa54fd128b0dd2c36c6dc4bc86b8e0d366ccd9f22b480a/Cython-0.29.21-cp37-cp37m-manylinux1_x86_64.whl (2.0MB)\n",
      "Collecting fire (from keras2onnx<=1.6.0,>=1.4.0->azureml-automl-runtime==1.12.0->-r requirements.txt (line 3))\n",
      "  Downloading https://files.pythonhosted.org/packages/34/a7/0e22e70778aca01a52b9c899d9c145c6396d7b613719cd63db97ffa13f2f/fire-0.3.1.tar.gz (81kB)\n",
      "Collecting isodate>=0.6.0 (from msrest>=0.5.1->azureml-core==1.12.0.post1->-r requirements.txt (line 4))\n",
      "\n",
      "  Downloading https://files.pythonhosted.org/packages/9b/9f/b36f7774ff5ea8e428fdcfc4bb332c39ee5b9362ddd3d40d9516a55221b2/isodate-0.6.0-py2.py3-none-any.whl (45kB)\n",
      "Collecting requests-oauthlib>=0.5.0 (from msrest>=0.5.1->azureml-core==1.12.0.post1->-r requirements.txt (line 4))\n",
      "  Downloading https://files.pythonhosted.org/packages/a3/12/b92740d845ab62ea4edf04d2f4164d82532b5a0b03836d4d4e71c6f3d379/requests_oauthlib-1.3.0-py2.py3-none-any.whl\n",
      "Collecting jeepney>=0.4.2 (from SecretStorage->azureml-core==1.12.0.post1->-r requirements.txt (line 4))\n",
      "  Downloading https://files.pythonhosted.org/packages/79/31/2e8d42727595faf224c6dbb748c32b192e212f25495fe841fb7ce8e168b8/jeepney-0.4.3-py3-none-any.whl\n",
      "Collecting ruamel.yaml.clib>=0.1.2; platform_python_implementation == \"CPython\" and python_version < \"3.9\" (from ruamel.yaml>=0.15.35->azureml-core==1.12.0.post1->-r requirements.txt (line 4))\n",
      "  Downloading https://files.pythonhosted.org/packages/40/80/da16b691d5e259dd9919a10628e541fca321cb4b078fbb88e1c7c22aa42d/ruamel.yaml.clib-0.2.0-cp37-cp37m-manylinux1_x86_64.whl (547kB)\n",
      "Collecting backports.weakref (from backports.tempfile->azureml-core==1.12.0.post1->-r requirements.txt (line 4))\n",
      "  Downloading https://files.pythonhosted.org/packages/88/ec/f598b633c3d5ffe267aaada57d961c94fdfa183c5c3ebda2b6d151943db6/backports.weakref-1.0.post1-py2.py3-none-any.whl\n",
      "Collecting importlib-metadata (from jsonpickle->azureml-core==1.12.0.post1->-r requirements.txt (line 4))\n",
      "  Downloading https://files.pythonhosted.org/packages/8e/58/cdea07eb51fc2b906db0968a94700866fc46249bdc75cac23f9d13168929/importlib_metadata-1.7.0-py2.py3-none-any.whl\n",
      "Collecting cffi!=1.11.3,>=1.8 (from cryptography!=1.9,!=2.0.*,!=2.1.*,!=2.2.*->azureml-core==1.12.0.post1->-r requirements.txt (line 4))\n",
      "  Downloading https://files.pythonhosted.org/packages/ad/82/cc3e38b7859e1426d7c004503962074317f3ccbd46adbef5b8094c9688c3/cffi-1.14.2-cp37-cp37m-manylinux1_x86_64.whl (401kB)\n",
      "Collecting pyasn1>=0.1.1 (from ndg-httpsclient->azureml-core==1.12.0.post1->-r requirements.txt (line 4))\n",
      "  Downloading https://files.pythonhosted.org/packages/62/1e/a94a8d635fa3ce4cfc7f506003548d0a2447ae76fd5ca53932970fe3053f/pyasn1-0.4.8-py2.py3-none-any.whl (77kB)\n",
      "Collecting distro>=1.2.0 (from dotnetcore2<3.0.0,>=2.1.14->azureml-dataprep==2.0.7->-r requirements.txt (line 5))\n",
      "  Downloading https://files.pythonhosted.org/packages/25/b7/b3c4270a11414cb22c6352ebc7a83aaa3712043be29daa05018fd5a5c956/distro-1.5.0-py2.py3-none-any.whl\n",
      "Collecting msal-extensions~=0.1.3 (from azure-identity<1.3.0,>=1.2.0->azureml-dataprep==2.0.7->-r requirements.txt (line 5))\n",
      "  Downloading https://files.pythonhosted.org/packages/21/9b/8bc67822e98573fe0460e30ad0202ab9e0638a42878041c65a6fe857babe/msal_extensions-0.1.3-py2.py3-none-any.whl\n",
      "Collecting msal<2.0.0,>=1.0.0 (from azure-identity<1.3.0,>=1.2.0->azureml-dataprep==2.0.7->-r requirements.txt (line 5))\n",
      "  Downloading https://files.pythonhosted.org/packages/05/4f/1c3c733efe2d3aaff9ba612508b3e21647c8a6d26e1eb3e247170fe1df63/msal-1.4.3-py2.py3-none-any.whl (49kB)\n",
      "Collecting shap<=0.34.0,>=0.20.0 (from interpret-community==0.14.*->azureml-interpret==1.12.0->-r requirements.txt (line 10))\n",
      "  Downloading https://files.pythonhosted.org/packages/b8/db/58740847c0df6b346a999e3c375936436f4155354f6b644aa6e203bb40f3/shap-0.34.0.tar.gz (264kB)\n",
      "Collecting packaging (from interpret-community==0.14.*->azureml-interpret==1.12.0->-r requirements.txt (line 10))\n",
      "\n",
      "  Downloading https://files.pythonhosted.org/packages/46/19/c5ab91b1b05cfe63cccd5cfc971db9214c6dd6ced54e33c30d5af1d2bc43/packaging-20.4-py2.py3-none-any.whl\n",
      "Collecting interpret-core[required]<=0.2.1,>=0.1.20 (from interpret-community==0.14.*->azureml-interpret==1.12.0->-r requirements.txt (line 10))\n",
      "  Downloading https://files.pythonhosted.org/packages/49/be/a678bac6f4e65b1440c4922837d526bf903a1a16616edcd690caa45f9935/interpret_core-0.2.1-py3-none-any.whl (5.0MB)\n",
      "Collecting pyrsistent>=0.14.0 (from jsonschema>=3.0.1->flasgger==0.9.4->-r requirements.txt (line 26))\n",
      "  Downloading https://files.pythonhosted.org/packages/9f/0d/cbca4d0bbc5671822a59f270e4ce3f2195f8a899c97d0d5abb81b191efb5/pyrsistent-0.16.0.tar.gz (108kB)\n",
      "Collecting attrs>=17.4.0 (from jsonschema>=3.0.1->flasgger==0.9.4->-r requirements.txt (line 26))\n",
      "  Downloading https://files.pythonhosted.org/packages/d6/e1/3aa3b03e7643ffd6e499b203fd2a44f79893443e8b0b520d05d3e5c638d5/attrs-20.1.0-py2.py3-none-any.whl (49kB)\n",
      "Collecting MarkupSafe>=0.23 (from Jinja2>=2.10->Flask==1.0.3->-r requirements.txt (line 27))\n",
      "  Downloading https://files.pythonhosted.org/packages/98/7b/ff284bd8c80654e471b769062a9b43cc5d03e7a615048d96f4619df8d420/MarkupSafe-1.1.1-cp37-cp37m-manylinux1_x86_64.whl\n",
      "Collecting parso<0.8.0,>=0.7.0 (from jedi>=0.10->ipython==7.2.0->-r requirements.txt (line 28))\n",
      "  Downloading https://files.pythonhosted.org/packages/93/d1/e635bdde32890db5aeb2ffbde17e74f68986305a4466b0aa373b861e3f00/parso-0.7.1-py2.py3-none-any.whl (109kB)\n",
      "Collecting wcwidth (from prompt-toolkit<2.1.0,>=2.0.0->ipython==7.2.0->-r requirements.txt (line 28))\n",
      "  Downloading https://files.pythonhosted.org/packages/59/7c/e39aca596badaf1b78e8f547c807b04dae603a433d3e7a7e04d67f2ef3e5/wcwidth-0.2.5-py2.py3-none-any.whl\n",
      "Collecting ptyprocess>=0.5 (from pexpect; sys_platform != \"win32\"->ipython==7.2.0->-r requirements.txt (line 28))\n",
      "  Downloading https://files.pythonhosted.org/packages/d1/29/605c2cc68a9992d18dada28206eeada56ea4bd07a239669da41674648b6f/ptyprocess-0.6.0-py2.py3-none-any.whl\n",
      "Collecting ipython-genutils (from traitlets>=4.2->ipython==7.2.0->-r requirements.txt (line 28))\n",
      "  Downloading https://files.pythonhosted.org/packages/fa/bc/9bd3b5c2b4774d5f33b2d544f1460be9df7df2fe42f352135381c347c69a/ipython_genutils-0.2.0-py2.py3-none-any.whl\n",
      "Collecting pandocfilters>=1.4.1 (from nbconvert->jupyter==1.0.0->-r requirements.txt (line 29))\n",
      "  Downloading https://files.pythonhosted.org/packages/4c/ea/236e2584af67bb6df960832731a6e5325fd4441de001767da328c33368ce/pandocfilters-1.4.2.tar.gz\n",
      "Collecting testpath (from nbconvert->jupyter==1.0.0->-r requirements.txt (line 29))\n",
      "  Downloading https://files.pythonhosted.org/packages/1b/9e/1a170feaa54f22aeb5a5d16c9015e82234275a3c8ab630b552493f9cb8a9/testpath-0.4.4-py2.py3-none-any.whl (163kB)\n",
      "Collecting defusedxml (from nbconvert->jupyter==1.0.0->-r requirements.txt (line 29))\n",
      "  Downloading https://files.pythonhosted.org/packages/06/74/9b387472866358ebc08732de3da6dc48e44b0aacd2ddaa5cb85ab7e986a2/defusedxml-0.6.0-py2.py3-none-any.whl\n",
      "Collecting nbformat>=4.4 (from nbconvert->jupyter==1.0.0->-r requirements.txt (line 29))\n",
      "  Downloading https://files.pythonhosted.org/packages/4d/d1/b568bd35f95321f152f594b3647cd080e96d3347843ff2fa34dce871b8bf/nbformat-5.0.7-py3-none-any.whl (170kB)\n",
      "Collecting bleach (from nbconvert->jupyter==1.0.0->-r requirements.txt (line 29))\n",
      "  Downloading https://files.pythonhosted.org/packages/9a/1e/7d6cb3b27cd2c490558349ca5d5cc05b390b017da1c704cac807ac8bd9fb/bleach-3.1.5-py2.py3-none-any.whl (151kB)\n",
      "Collecting qtpy (from qtconsole->jupyter==1.0.0->-r requirements.txt (line 29))\n",
      "  Downloading https://files.pythonhosted.org/packages/cd/fd/9972948f02e967b691cc0ca1f26124826a3b88cb38f412a8b7935b8c3c72/QtPy-1.9.0-py2.py3-none-any.whl (54kB)\n",
      "Collecting widgetsnbextension~=3.5.0 (from ipywidgets->jupyter==1.0.0->-r requirements.txt (line 29))\n",
      "  Downloading https://files.pythonhosted.org/packages/6c/7b/7ac231c20d2d33c445eaacf8a433f4e22c60677eb9776c7c5262d7ddee2d/widgetsnbextension-3.5.1-py2.py3-none-any.whl (2.2MB)\n",
      "Collecting Send2Trash (from notebook->jupyter==1.0.0->-r requirements.txt (line 29))\n",
      "  Downloading https://files.pythonhosted.org/packages/49/46/c3dc27481d1cc57b9385aff41c474ceb7714f7935b1247194adae45db714/Send2Trash-1.5.0-py3-none-any.whl\n",
      "Collecting argon2-cffi (from notebook->jupyter==1.0.0->-r requirements.txt (line 29))\n",
      "  Downloading https://files.pythonhosted.org/packages/e0/d7/5da06217807106ed6d7b4f5ccb8ec5e3f9ec969217faad4b5d1af0b55101/argon2_cffi-20.1.0-cp35-abi3-manylinux1_x86_64.whl (97kB)\n",
      "\n",
      "Collecting prometheus-client (from notebook->jupyter==1.0.0->-r requirements.txt (line 29))\n",
      "  Downloading https://files.pythonhosted.org/packages/3f/0e/554a265ffdc56e1494ef08e18f765b0cdec78797f510c58c45cf37abb4f4/prometheus_client-0.8.0-py2.py3-none-any.whl (53kB)\n",
      "Collecting terminado>=0.8.3 (from notebook->jupyter==1.0.0->-r requirements.txt (line 29))\n",
      "  Downloading https://files.pythonhosted.org/packages/ff/96/1d9a2c23990aea8f8e0b5c3b6627d03196a73771a17a2d9860bbe9823ab6/terminado-0.8.3-py2.py3-none-any.whl\n",
      "Collecting Mako (from alembic->mlflow==1.9.1->-r requirements.txt (line 37))\n",
      "  Downloading https://files.pythonhosted.org/packages/a6/37/0e706200d22172eb8fa17d68a7ae22dec7631a0a92266634fb518a88a5b2/Mako-1.1.3-py2.py3-none-any.whl (75kB)\n",
      "Collecting python-editor>=0.3 (from alembic->mlflow==1.9.1->-r requirements.txt (line 37))\n",
      "  Downloading https://files.pythonhosted.org/packages/c6/d3/201fc3abe391bbae6606e6f1d598c15d367033332bd54352b12f35513717/python_editor-1.0.4-py3-none-any.whl\n",
      "Collecting gitdb<5,>=4.0.1 (from gitpython>=2.1.0->mlflow==1.9.1->-r requirements.txt (line 37))\n",
      "  Downloading https://files.pythonhosted.org/packages/48/11/d1800bca0a3bae820b84b7d813ad1eff15a48a64caea9c823fc8c1b119e8/gitdb-4.0.5-py3-none-any.whl (63kB)\n",
      "Collecting tabulate>=0.7.7 (from databricks-cli>=0.8.7->mlflow==1.9.1->-r requirements.txt (line 37))\n",
      "  Downloading https://files.pythonhosted.org/packages/c4/f4/770ae9385990f5a19a91431163d262182d3203662ea2b5739d0fcfc080f1/tabulate-0.8.7-py3-none-any.whl\n",
      "Collecting botocore<1.18.0,>=1.17.48 (from boto3->smart-open<=1.9.0->azureml-automl-runtime==1.12.0->-r requirements.txt (line 3))\n",
      "  Downloading https://files.pythonhosted.org/packages/1b/6c/3222ef7fbd77d89a374844b6f718f21993a7704496f4bf52251d573e2049/botocore-1.17.48-py2.py3-none-any.whl (6.5MB)\n",
      "Collecting s3transfer<0.4.0,>=0.3.0 (from boto3->smart-open<=1.9.0->azureml-automl-runtime==1.12.0->-r requirements.txt (line 3))\n",
      "  Downloading https://files.pythonhosted.org/packages/69/79/e6afb3d8b0b4e96cefbdc690f741d7dd24547ff1f94240c997a26fa908d3/s3transfer-0.3.3-py2.py3-none-any.whl (69kB)\n",
      "Collecting termcolor (from fire->keras2onnx<=1.6.0,>=1.4.0->azureml-automl-runtime==1.12.0->-r requirements.txt (line 3))\n",
      "  Downloading https://files.pythonhosted.org/packages/8a/48/a76be51647d0eb9f10e2a4511bf3ffb8cc1e6b14e9e4fab46173aa79f981/termcolor-1.1.0.tar.gz\n",
      "Collecting oauthlib>=3.0.0 (from requests-oauthlib>=0.5.0->msrest>=0.5.1->azureml-core==1.12.0.post1->-r requirements.txt (line 4))\n",
      "  Downloading https://files.pythonhosted.org/packages/05/57/ce2e7a8fa7c0afb54a0581b14a65b56e62b5759dbc98e80627142b8a3704/oauthlib-3.1.0-py2.py3-none-any.whl (147kB)\n",
      "Collecting zipp>=0.5 (from importlib-metadata->jsonpickle->azureml-core==1.12.0.post1->-r requirements.txt (line 4))\n",
      "  Downloading https://files.pythonhosted.org/packages/b2/34/bfcb43cc0ba81f527bc4f40ef41ba2ff4080e047acb0586b56b3d017ace4/zipp-3.1.0-py3-none-any.whl\n",
      "Collecting pycparser (from cffi!=1.11.3,>=1.8->cryptography!=1.9,!=2.0.*,!=2.1.*,!=2.2.*->azureml-core==1.12.0.post1->-r requirements.txt (line 4))\n",
      "  Downloading https://files.pythonhosted.org/packages/ae/e7/d9c3a176ca4b02024debf82342dab36efadfc5776f9c8db077e8f6e71821/pycparser-2.20-py2.py3-none-any.whl (112kB)\n",
      "\n",
      "Collecting portalocker~=1.0 (from msal-extensions~=0.1.3->azure-identity<1.3.0,>=1.2.0->azureml-dataprep==2.0.7->-r requirements.txt (line 5))\n",
      "  Downloading https://files.pythonhosted.org/packages/3b/e7/ceef002a300a98a208232fab593183249b6964b306ee7dabb29908419cca/portalocker-1.7.1-py2.py3-none-any.whl\n",
      "Collecting tqdm>4.25.0 (from shap<=0.34.0,>=0.20.0->interpret-community==0.14.*->azureml-interpret==1.12.0->-r requirements.txt (line 10))\n",
      "  Downloading https://files.pythonhosted.org/packages/28/7e/281edb5bc3274dfb894d90f4dbacfceaca381c2435ec6187a2c6f329aed7/tqdm-4.48.2-py2.py3-none-any.whl (68kB)\n",
      "Collecting webencodings (from bleach->nbconvert->jupyter==1.0.0->-r requirements.txt (line 29))\n",
      "  Downloading https://files.pythonhosted.org/packages/f4/24/2a3e3df732393fed8b3ebf2ec078f05546de641fe1b667ee316ec1dcf3b7/webencodings-0.5.1-py2.py3-none-any.whl\n",
      "Collecting smmap<4,>=3.0.1 (from gitdb<5,>=4.0.1->gitpython>=2.1.0->mlflow==1.9.1->-r requirements.txt (line 37))\n",
      "  Downloading https://files.pythonhosted.org/packages/b0/9a/4d409a6234eb940e6a78dfdfc66156e7522262f5f2fecca07dc55915952d/smmap-3.0.4-py2.py3-none-any.whl\n",
      "Collecting docutils<0.16,>=0.10 (from botocore<1.18.0,>=1.17.48->boto3->smart-open<=1.9.0->azureml-automl-runtime==1.12.0->-r requirements.txt (line 3))\n",
      "  Downloading https://files.pythonhosted.org/packages/22/cd/a6aa959dca619918ccb55023b4cb151949c64d4d5d55b3f4ffd7eee0c6e8/docutils-0.15.2-py3-none-any.whl (547kB)\n",
      "Building wheels for collected packages: smart-open, psutil, py-cpuinfo, dill, json-logging-py, liac-arff, PyYAML, tornado, alembic, querystring-parser, databricks-cli, prometheus-flask-exporter, sqlalchemy, boto3, fire, shap, pyrsistent, pandocfilters, termcolor\n",
      "  Running setup.py bdist_wheel for smart-open: started\n",
      "  Running setup.py bdist_wheel for smart-open: finished with status 'done'\n",
      "  Stored in directory: /root/.cache/pip/wheels/ab/10/93/5cff86f5b721d77edaecc29959b1c60d894be1f66d91407d28\n",
      "  Running setup.py bdist_wheel for psutil: started\n",
      "  Running setup.py bdist_wheel for psutil: finished with status 'done'\n",
      "\n",
      "  Stored in directory: /root/.cache/pip/wheels/39/a0/f5/c4fa280463e29aea07797acb5312358fefb067c1f4f98e11b1\n",
      "  Running setup.py bdist_wheel for py-cpuinfo: started\n",
      "  Running setup.py bdist_wheel for py-cpuinfo: finished with status 'done'\n",
      "  Stored in directory: /root/.cache/pip/wheels/01/7e/a9/b982d0fea22b7e4ae5619de949570cde5ad55420cec16e86a5\n",
      "  Running setup.py bdist_wheel for dill: started\n",
      "  Running setup.py bdist_wheel for dill: finished with status 'done'\n",
      "  Stored in directory: /root/.cache/pip/wheels/27/4b/a2/34ccdcc2f158742cfe9650675560dea85f78c3f4628f7daad0\n",
      "  Running setup.py bdist_wheel for json-logging-py: started\n",
      "  Running setup.py bdist_wheel for json-logging-py: finished with status 'done'\n",
      "  Stored in directory: /root/.cache/pip/wheels/0d/2e/1c/c638b7589610d8b9358a6e5eb008edacb8b3e9b6d1edc9479f\n",
      "  Running setup.py bdist_wheel for liac-arff: started\n",
      "  Running setup.py bdist_wheel for liac-arff: finished with status 'done'\n",
      "  Stored in directory: /root/.cache/pip/wheels/d1/6a/e7/529dc54d76ecede4346164a09ae3168df358945612710f5203\n",
      "  Running setup.py bdist_wheel for PyYAML: started\n",
      "  Running setup.py bdist_wheel for PyYAML: finished with status 'done'\n",
      "\n",
      "  Stored in directory: /root/.cache/pip/wheels/a7/c1/ea/cf5bd31012e735dc1dfea3131a2d5eae7978b251083d6247bd\n",
      "  Running setup.py bdist_wheel for tornado: started\n",
      "  Running setup.py bdist_wheel for tornado: finished with status 'done'\n",
      "  Stored in directory: /root/.cache/pip/wheels/93/84/2f/409c7b2bb3afc3aa727f7ee8787975e0793f74d1165f4d0104\n",
      "  Running setup.py bdist_wheel for alembic: started\n",
      "  Running setup.py bdist_wheel for alembic: finished with status 'done'\n",
      "  Stored in directory: /root/.cache/pip/wheels/1f/04/83/76023f7a4c14688c0b5c2682a96392cfdd3ee4449eaaa287ef\n",
      "  Running setup.py bdist_wheel for querystring-parser: started\n",
      "  Running setup.py bdist_wheel for querystring-parser: finished with status 'done'\n",
      "  Stored in directory: /root/.cache/pip/wheels/1e/41/34/23ebf5d1089a9aed847951e0ee375426eb4ad0a7079d88d41e\n",
      "  Running setup.py bdist_wheel for databricks-cli: started\n",
      "  Running setup.py bdist_wheel for databricks-cli: finished with status 'done'\n",
      "  Stored in directory: /root/.cache/pip/wheels/63/d0/4f/3deeca1f4c47a6aca7c2c6a6e2bf272391565dc86a7718a59b\n",
      "  Running setup.py bdist_wheel for prometheus-flask-exporter: started\n",
      "  Running setup.py bdist_wheel for prometheus-flask-exporter: finished with status 'done'\n",
      "\n",
      "  Stored in directory: /root/.cache/pip/wheels/4f/b4/70/b18fa12c1c0a30fd542767dbbcdac225c6aae012fa1b3124e4\n",
      "  Running setup.py bdist_wheel for sqlalchemy: started\n",
      "  Running setup.py bdist_wheel for sqlalchemy: finished with status 'done'\n",
      "  Stored in directory: /root/.cache/pip/wheels/b3/35/98/4c9cb3fd63d21d5606b972dd70643769745adf60e622467b71\n",
      "  Running setup.py bdist_wheel for boto3: started\n",
      "  Running setup.py bdist_wheel for boto3: finished with status 'done'\n",
      "\n",
      "  Stored in directory: /root/.cache/pip/wheels/5a/8b/e0/96a564beb67f86e54a15096020c3bfc955f464fe633373e242\n",
      "  Running setup.py bdist_wheel for fire: started\n",
      "  Running setup.py bdist_wheel for fire: finished with status 'done'\n",
      "  Stored in directory: /root/.cache/pip/wheels/c1/61/df/768b03527bf006b546dce284eb4249b185669e65afc5fbb2ac\n",
      "  Running setup.py bdist_wheel for shap: started\n",
      "  Running setup.py bdist_wheel for shap: finished with status 'done'\n",
      "\n",
      "  Stored in directory: /root/.cache/pip/wheels/28/7e/28/57bc9fcb77579b0df6561298648249370648c0b91dfe42c8ec\n",
      "  Running setup.py bdist_wheel for pyrsistent: started\n",
      "  Running setup.py bdist_wheel for pyrsistent: finished with status 'done'\n",
      "  Stored in directory: /root/.cache/pip/wheels/c2/85/ad/bc6d41e2c4b35c9fdfed48f0fcd411ffc4164e67755ddf9ebb\n",
      "  Running setup.py bdist_wheel for pandocfilters: started\n",
      "  Running setup.py bdist_wheel for pandocfilters: finished with status 'done'\n",
      "  Stored in directory: /root/.cache/pip/wheels/39/01/56/f1b08a6275acc59e846fa4c1e1b65dbc1919f20157d9e66c20\n",
      "  Running setup.py bdist_wheel for termcolor: started\n",
      "  Running setup.py bdist_wheel for termcolor: finished with status 'done'\n",
      "  Stored in directory: /root/.cache/pip/wheels/7c/06/54/bc84598ba1daf8f970247f550b175aaaee85f68b4b0c5ab2c6\n",
      "Successfully built smart-open psutil py-cpuinfo dill json-logging-py liac-arff PyYAML tornado alembic querystring-parser databricks-cli prometheus-flask-exporter sqlalchemy boto3 fire shap pyrsistent pandocfilters termcolor\n",
      "notebook 6.1.3 has requirement jupyter-client>=5.3.4, but you'll have jupyter-client 5.2.4 which is incompatible.\n",
      "notebook 6.1.3 has requirement jupyter-core>=4.6.1, but you'll have jupyter-core 4.4.0 which is incompatible.\n",
      "\n",
      "Installing collected packages: chardet, idna, certifi, urllib3, requests, six, azure-core, numpy, pyarrow, distro, dotnetcore2, portalocker, PyJWT, msal, msal-extensions, pycparser, cffi, cryptography, azure-identity, azureml-dataprep-native, cloudpickle, azureml-dataprep, azureml-dataset-runtime, isodate, oauthlib, requests-oauthlib, msrest, azure-common, python-dateutil, adal, msrestazure, azure-mgmt-authorization, azure-mgmt-keyvault, azure-mgmt-resource, azure-graphrbac, jeepney, SecretStorage, pathspec, jmespath, ruamel.yaml.clib, ruamel.yaml, azure-mgmt-storage, backports.weakref, backports.tempfile, websocket-client, docker, contextlib2, zipp, importlib-metadata, jsonpickle, azure-mgmt-containerregistry, pyopenssl, pytz, pyasn1, ndg-httpsclient, azureml-core, applicationinsights, azureml-telemetry, azureml-automl-core, boto, docutils, botocore, s3transfer, boto3, smart-open, typing-extensions, protobuf, onnx, scipy, pandas, patsy, statsmodels, scikit-learn, gensim, psutil, onnxconverter-common, Cython, pmdarima, skl2onnx, nimbusml, py-cpuinfo, sklearn-pandas, onnxruntime, joblib, termcolor, fire, keras2onnx, onnxmltools, lightgbm, dill, azureml-automl-runtime, werkzeug, click, itsdangerous, MarkupSafe, Jinja2, Flask, json-logging-py, configparser, liac-arff, azureml-model-management-sdk, gunicorn, azureml-defaults, tqdm, shap, pyparsing, packaging, interpret-core, interpret-community, azureml-interpret, azureml-explain-model, sqlalchemy, Mako, python-editor, alembic, querystring-parser, smmap, gitdb, gitpython, azure-storage-blob, tabulate, databricks-cli, gorilla, PyYAML, prometheus-client, prometheus-flask-exporter, sqlparse, entrypoints, mlflow, azureml-mlflow, azureml-train-restclients-hyperdrive, azureml-train-core, azureml-train-automl-client, azureml-pipeline-core, azureml-pipeline-steps, azureml-pipeline, azureml-train, azureml-sdk, azureml-train-automl-runtime, azureml-train-automl, Babel, pyrsistent, attrs, jsonschema, mistune, flasgger, parso, jedi, decorator, wcwidth, prompt-toolkit, backcall, pygments, ptyprocess, pexpect, ipython-genutils, traitlets, pickleshare, ipython, pandocfilters, testpath, defusedxml, jupyter-core, nbformat, webencodings, bleach, nbconvert, pyzmq, qtpy, tornado, jupyter-client, ipykernel, qtconsole, Send2Trash, argon2-cffi, terminado, notebook, widgetsnbextension, ipywidgets, jupyter-console, jupyter, jupyterlab-server, jupyterlab, h5py, Keras, kiwisolver, cycler, matplotlib, Pillow, seaborn\n",
      "\n",
      "\n",
      "Successfully installed Babel-2.6.0 Cython-0.29.21 Flask-1.0.3 Jinja2-2.11.2 Keras-2.4.3 Mako-1.1.3 MarkupSafe-1.1.1 Pillow-5.3.0 PyJWT-1.7.1 PyYAML-5.3.1 SecretStorage-3.1.2 Send2Trash-1.5.0 adal-1.2.4 alembic-1.4.2 applicationinsights-0.11.9 argon2-cffi-20.1.0 attrs-20.1.0 azure-common-1.1.25 azure-core-1.6.0 azure-graphrbac-0.61.1 azure-identity-1.2.0 azure-mgmt-authorization-0.61.0 azure-mgmt-containerregistry-2.8.0 azure-mgmt-keyvault-2.2.0 azure-mgmt-resource-10.2.0 azure-mgmt-storage-11.2.0 azure-storage-blob-12.4.0 azureml-automl-core-1.12.0 azureml-automl-runtime-1.12.0 azureml-core-1.12.0.post1 azureml-dataprep-2.0.7 azureml-dataprep-native-20.0.2 azureml-dataset-runtime-1.12.0 azureml-defaults-1.12.0 azureml-explain-model-1.12.0 azureml-interpret-1.12.0 azureml-mlflow-1.12.0 azureml-model-management-sdk-1.0.1b6.post1 azureml-pipeline-1.12.0 azureml-pipeline-core-1.12.0 azureml-pipeline-steps-1.12.0 azureml-sdk-1.12.0 azureml-telemetry-1.12.0 azureml-train-1.12.0 azureml-train-automl-1.12.0 azureml-train-automl-client-1.12.0.post1 azureml-train-automl-runtime-1.12.0.post1 azureml-train-core-1.12.0 azureml-train-restclients-hyperdrive-1.12.0 backcall-0.2.0 backports.tempfile-1.0 backports.weakref-1.0.post1 bleach-3.1.5 boto-2.49.0 boto3-1.14.48 botocore-1.17.48 certifi-2020.6.20 cffi-1.14.2 chardet-3.0.4 click-7.1.2 cloudpickle-1.5.0 configparser-3.7.4 contextlib2-0.6.0.post1 cryptography-3.0 cycler-0.10.0 databricks-cli-0.11.0 decorator-4.4.2 defusedxml-0.6.0 dill-0.3.2 distro-1.5.0 docker-4.2.1 docutils-0.15.2 dotnetcore2-2.1.14 entrypoints-0.3 fire-0.3.1 flasgger-0.9.4 gensim-3.8.3 gitdb-4.0.5 gitpython-3.1.7 gorilla-0.3.0 gunicorn-19.9.0 h5py-2.10.0 idna-2.10 importlib-metadata-1.7.0 interpret-community-0.14.3 interpret-core-0.2.1 ipykernel-5.3.4 ipython-7.2.0 ipython-genutils-0.2.0 ipywidgets-7.5.1 isodate-0.6.0 itsdangerous-1.1.0 jedi-0.17.2 jeepney-0.4.3 jmespath-0.10.0 joblib-0.14.1 json-logging-py-0.2 jsonpickle-1.4.1 jsonschema-3.2.0 jupyter-1.0.0 jupyter-client-5.2.4 jupyter-console-6.0.0 jupyter-core-4.4.0 jupyterlab-0.35.3 jupyterlab-server-0.2.0 keras2onnx-1.6.0 kiwisolver-1.2.0 liac-arff-2.4.0 lightgbm-2.3.0 matplotlib-3.0.2 mistune-0.8.4 mlflow-1.9.1 msal-1.4.3 msal-extensions-0.1.3 msrest-0.6.18 msrestazure-0.6.4 nbconvert-5.6.1 nbformat-5.0.7 ndg-httpsclient-0.5.1 nimbusml-1.7.1 notebook-6.1.3 numpy-1.16.3 oauthlib-3.1.0 onnx-1.6.0 onnxconverter-common-1.6.0 onnxmltools-1.4.1 onnxruntime-1.0.0 packaging-20.4 pandas-0.23.4 pandocfilters-1.4.2 parso-0.7.1 pathspec-0.8.0 patsy-0.5.1 pexpect-4.8.0 pickleshare-0.7.5 pmdarima-1.1.1 portalocker-1.7.1 prometheus-client-0.8.0 prometheus-flask-exporter-0.15.4 prompt-toolkit-2.0.10 protobuf-3.13.0 psutil-5.7.2 ptyprocess-0.6.0 py-cpuinfo-5.0.0 pyarrow-1.0.1 pyasn1-0.4.8 pycparser-2.20 pygments-2.6.1 pyopenssl-19.1.0 pyparsing-2.4.7 pyrsistent-0.16.0 python-dateutil-2.8.1 python-editor-1.0.4 pytz-2020.1 pyzmq-19.0.2 qtconsole-4.7.6 qtpy-1.9.0 querystring-parser-1.2.4 requests-2.24.0 requests-oauthlib-1.3.0 ruamel.yaml-0.16.10 ruamel.yaml.clib-0.2.0 s3transfer-0.3.3 scikit-learn-0.20.1 scipy-1.4.1 seaborn-0.9.0 shap-0.34.0 six-1.15.0 skl2onnx-1.4.9 sklearn-pandas-1.7.0 smart-open-1.9.0 smmap-3.0.4 sqlalchemy-1.3.13 sqlparse-0.3.1 statsmodels-0.10.2 tabulate-0.8.7 termcolor-1.1.0 terminado-0.8.3 testpath-0.4.4 tornado-6.0.4 tqdm-4.48.2 traitlets-4.3.3 typing-extensions-3.7.4.3 urllib3-1.25.10 wcwidth-0.2.5 webencodings-0.5.1 websocket-client-0.57.0 werkzeug-0.16.1 widgetsnbextension-3.5.1 zipp-3.1.0\n",
      "\n",
      "You are using pip version 18.1, however version 20.2.2 is available.\n",
      "You should consider upgrading via the 'pip install --upgrade pip' command.\n",
      "\n",
      "\n",
      "Removing intermediate container 009572497a4d\n",
      " ---> 06d1593e885f\n",
      "Step 10/11 : WORKDIR /usr/local/python/api/\n",
      "\n",
      " ---> Running in ef82c90c7744\n",
      "Removing intermediate container ef82c90c7744\n",
      " ---> d3b3155ebea8\n",
      "Step 11/11 : CMD python Taxi_Fare_Flask.py\n",
      "\n",
      " ---> Running in 244171f91c2c\n",
      "Removing intermediate container 244171f91c2c\n",
      " ---> e72148cd462e\n",
      "\n",
      "Successfully built e72148cd462e\n",
      "Successfully tagged finalprojectcis395.azurecr.io/taxifare:latest\n",
      "2020/08/24 20:18:17 Successfully executed container: build\n",
      "2020/08/24 20:18:17 Executing step ID: push. Timeout(sec): 3600, Working directory: '', Network: ''\n",
      "2020/08/24 20:18:17 Pushing image: finalprojectcis395.azurecr.io/taxifare:latest, attempt 1\n",
      "The push refers to repository [finalprojectcis395.azurecr.io/taxifare]\n",
      "ab9ac89498e6: Preparing\n",
      "2d247d5422af: Preparing\n",
      "66c7101f63b9: Preparing\n",
      "019c25db4be6: Preparing\n",
      "c660d5dc256a: Preparing\n",
      "9e701d0e0edd: Preparing\n",
      "3294fae58626: Preparing\n",
      "9e89ea4aeda3: Preparing\n",
      "e02b32b1ff99: Preparing\n",
      "f75e64f96dbc: Preparing\n",
      "8f7ee6d76fd9: Preparing\n",
      "c23711a84ad4: Preparing\n",
      "90d1009ce6fe: Preparing\n",
      "9e701d0e0edd: Waiting\n",
      "3294fae58626: Waiting\n",
      "9e89ea4aeda3: Waiting\n",
      "e02b32b1ff99: Waiting\n",
      "c23711a84ad4: Waiting\n",
      "90d1009ce6fe: Waiting\n",
      "8f7ee6d76fd9: Waiting\n",
      "f75e64f96dbc: Waiting\n",
      "2d247d5422af: Pushed\n",
      "\n",
      "019c25db4be6: Pushed\n",
      "66c7101f63b9: Pushed\n",
      "c660d5dc256a: Pushed\n",
      "\n",
      "9e701d0e0edd: Pushed\n",
      "9e89ea4aeda3: Pushed\n",
      "\n",
      "8f7ee6d76fd9: Pushed\n",
      "3294fae58626: Pushed\n",
      "\n",
      "c23711a84ad4: Pushed\n",
      "\n",
      "f75e64f96dbc: Pushed\n",
      "\n",
      "90d1009ce6fe: Pushed\n",
      "\n",
      "e02b32b1ff99: Pushed\n",
      "\n",
      "ab9ac89498e6: Pushed\n",
      "\n",
      "latest: digest: sha256:6ca5e1709fee028cab2d39332fc88aff3c67e4c6a0b68200d564bde39f878ea3 size: 3054\n",
      "2020/08/24 20:20:56 Successfully pushed image: finalprojectcis395.azurecr.io/taxifare:latest\n",
      "2020/08/24 20:20:56 Step ID: build marked as successful (elapsed time in seconds: 205.482618)\n",
      "2020/08/24 20:20:56 Populating digests for step ID: build...\n",
      "\n",
      "2020/08/24 20:20:58 Successfully populated digests for step ID: build\n",
      "2020/08/24 20:20:58 Step ID: push marked as successful (elapsed time in seconds: 159.078731)\n",
      "2020/08/24 20:20:58 The following dependencies were found:\n",
      "2020/08/24 20:20:58 \n",
      "- image:\n",
      "    registry: finalprojectcis395.azurecr.io\n",
      "    repository: taxifare\n",
      "    tag: latest\n",
      "    digest: sha256:6ca5e1709fee028cab2d39332fc88aff3c67e4c6a0b68200d564bde39f878ea3\n",
      "  runtime-dependency:\n",
      "    registry: registry.hub.docker.com\n",
      "    repository: library/python\n",
      "    tag: 3.7.1\n",
      "    digest: sha256:60bc77077c6f799c41743afde27889f7addf9c4c0cade3a5822da73d6c4ce8b0\n",
      "  git: {}\n",
      "\n",
      "\n",
      "\n",
      "Run ID: cj3 was successful after 6m12s\n",
      "\n"
     ]
    },
    {
     "name": "stderr",
     "output_type": "stream",
     "text": [
      "Packing source code into tar to upload...\n",
      "Uploading archived source code from 'C:\\Users\\bab232\\AppData\\Local\\Temp\\build_archive_ede1d86305e64d25b9150b1d0b40f963.tar.gz'...\n",
      "Sending context (3.367 KiB) to registry: FinalProjectCIS395...\n",
      "Queued a build with ID: cj3\n",
      "Waiting for an agent...\n"
     ]
    }
   ],
   "source": [
    "!az acr build --image taxifare --registry FinalProjectCIS395 --file ../deployments/taxifare_container/Dockerfile ../deployments/taxifare_container/"
   ]
  },
  {
   "cell_type": "code",
   "execution_count": 11,
   "metadata": {},
   "outputs": [
    {
     "name": "stdout",
     "output_type": "stream",
     "text": [
      "[\n",
      "  \"cahouseprice\",\n",
      "  \"taxifare\",\n",
      "  \"taxifare-api\"\n",
      "]\n"
     ]
    }
   ],
   "source": [
    "!az acr repository list --name FinalProjectCIS395"
   ]
  },
  {
   "cell_type": "code",
   "execution_count": 8,
   "metadata": {},
   "outputs": [
    {
     "name": "stdout",
     "output_type": "stream",
     "text": [
      "Merged \"taxifafecis395\" as current context in C:\\Users\\bab232\\.kube\\config\n"
     ]
    }
   ],
   "source": [
    "!az aks get-credentials --resource-group Machine_Learning --name taxifafecis395"
   ]
  },
  {
   "cell_type": "code",
   "execution_count": 9,
   "metadata": {},
   "outputs": [
    {
     "name": "stdout",
     "output_type": "stream",
     "text": [
      "NAME                                STATUS   ROLES   AGE   VERSION\n",
      "aks-agentpool-13832284-vmss000000   Ready    agent   35m   v1.16.13\n",
      "aks-agentpool-13832284-vmss000001   Ready    agent   35m   v1.16.13\n"
     ]
    }
   ],
   "source": [
    "!kubectl get nodes"
   ]
  },
  {
   "cell_type": "code",
   "execution_count": 8,
   "metadata": {},
   "outputs": [
    {
     "name": "stdout",
     "output_type": "stream",
     "text": [
      "AcrLoginServer\n",
      "-----------------------------\n",
      "finalprojectcis395.azurecr.io\n"
     ]
    }
   ],
   "source": [
    "!az acr list --resource-group Machine_Learning --query \"[].{acrLoginServer:loginServer}\" --output table"
   ]
  },
  {
   "cell_type": "code",
   "execution_count": 13,
   "metadata": {},
   "outputs": [
    {
     "name": "stdout",
     "output_type": "stream",
     "text": [
      "deployment.apps/taxifare-prediction configured\n",
      "service/taxifare-prediction unchanged\n"
     ]
    }
   ],
   "source": [
    "!kubectl apply -f ../deployments/azurekubernetes_deploy/taxifare_aks.yaml"
   ]
  },
  {
   "cell_type": "code",
   "execution_count": 10,
   "metadata": {},
   "outputs": [
    {
     "name": "stdout",
     "output_type": "stream",
     "text": [
      "NAME                  TYPE           CLUSTER-IP    EXTERNAL-IP      PORT(S)          AGE\n",
      "taxifare-prediction   LoadBalancer   10.0.62.231   52.143.254.242   5010:31923/TCP   18m\n"
     ]
    }
   ],
   "source": [
    "!kubectl get service taxifare-prediction"
   ]
  },
  {
   "cell_type": "code",
   "execution_count": 12,
   "metadata": {},
   "outputs": [
    {
     "name": "stderr",
     "output_type": "stream",
     "text": [
      "error: the server doesn't have a resource type \"taxifare-prediction\"\n"
     ]
    }
   ],
   "source": [
    "!kubectl describe taxifare-prediction"
   ]
  },
  {
   "cell_type": "code",
   "execution_count": null,
   "metadata": {},
   "outputs": [],
   "source": []
  }
 ],
 "metadata": {
  "kernelspec": {
   "display_name": "Python 3.6 (tensorflow)",
   "language": "python",
   "name": "tensorflow"
  },
  "language_info": {
   "codemirror_mode": {
    "name": "ipython",
    "version": 3
   },
   "file_extension": ".py",
   "mimetype": "text/x-python",
   "name": "python",
   "nbconvert_exporter": "python",
   "pygments_lexer": "ipython3",
   "version": "3.7.1"
  }
 },
 "nbformat": 4,
 "nbformat_minor": 2
}
